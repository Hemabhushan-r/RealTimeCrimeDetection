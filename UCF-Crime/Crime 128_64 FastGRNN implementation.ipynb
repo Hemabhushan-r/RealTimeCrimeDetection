{
 "cells": [
  {
   "cell_type": "markdown",
   "metadata": {},
   "source": [
    "## EMI-FastGRNN Implementation\n",
    "This notebook contains the implementation of EMI-FastGRNN (one among the EMI algorithms). \n",
    "This notebbok consists of four parts:\n",
    "1. The constructing of an entirely new graph with randomly initialized weights, that can be trained.\n",
    "2. A saved model/graph can be loaded using *EMI-Driver*.\n",
    "3. New graph created using the weights from a saved graph.\n",
    "4. (Experimental)Restoration of weights and biases from numpy matrices\n",
    "\n",
    "This notebook uses the features extracted from UCF_Crime dataset and is an extension of the notebook found in https://github.com/microsoft/EdgeML"
   ]
  },
  {
   "cell_type": "code",
   "execution_count": 2,
   "metadata": {
    "ExecuteTime": {
     "end_time": "2019-04-30T09:51:58.751435Z",
     "start_time": "2019-04-30T09:51:57.442626Z"
    }
   },
   "outputs": [],
   "source": [
    "from __future__ import print_function\n",
    "import os\n",
    "import sys\n",
    "import tensorflow as tf\n",
    "import numpy as np\n",
    "# To include edgeml in python path\n",
    "sys.path.insert(0, '../../')\n",
    "os.environ['CUDA_VISIBLE_DEVICES'] ='0'\n",
    "\n",
    "# MI-RNN and EMI-RNN imports\n",
    "from rnn import EMI_DataPipeline\n",
    "from rnn import EMI_FastGRNN,EMI_FastRNN\n",
    "from emirnnTrainer import EMI_Trainer, EMI_Driver\n",
    "import utils"
   ]
  },
  {
   "cell_type": "markdown",
   "metadata": {},
   "source": [
    "Let us set up some network parameters for the computation graph."
   ]
  },
  {
   "cell_type": "code",
   "execution_count": 20,
   "metadata": {
    "ExecuteTime": {
     "end_time": "2019-07-28T09:37:09.981820Z",
     "start_time": "2019-07-28T09:37:09.975515Z"
    }
   },
   "outputs": [],
   "source": [
    "NUM_HIDDEN = 128\n",
    "NUM_TIMESTEPS = 16\n",
    "NUM_FEATS = 540\n",
    "FORGET_BIAS = 1.0\n",
    "NUM_OUTPUT = 8\n",
    "USE_DROPOUT = 0\n",
    "\n",
    "KEEP_PROB = 0.9\n",
    "UPDATE_NL = \"quantTanh\"\n",
    "GATE_NL = \"quantSigm\"\n",
    "WRANK = 5\n",
    "URANK = 6\n",
    "PREFETCH_NUM = 5\n",
    "BATCH_SIZE = 32\n",
    "NUM_EPOCHS = 2\n",
    "NUM_ITER = 4\n",
    "NUM_ROUNDS = 10\n",
    "\n",
    "# A staging direcory to store models\n",
    "MODEL_PREFIX = '/home/adithyapa4444_gmail_com/CRIME_halfFPS_fastgrnn/model-fastgrnn'"
   ]
  },
  {
   "cell_type": "code",
   "execution_count": 4,
   "metadata": {},
   "outputs": [],
   "source": [
    "def emirnn_preprocess(bagsize,no_of_features,extractedDir,numClass,subinstanceLen, subinstanceStride,data_csv,raw_create):\n",
    "    \"\"\"\n",
    "    emirnn_preprocess(bagsize,no_of_features,extractedDir,numClass,subinstanceLen, subinstanceStride,data_csv,raw_create)\n",
    "    \n",
    "    extractedDir: location where the raw file and output models have to be stored\n",
    "    \n",
    "    data_csv: the extracted hof file.\n",
    "    \n",
    "    raw_create: 1 if  raw file already exists in directory \n",
    "               0 if  need to create file \n",
    "    \n",
    "    \"\"\"\n",
    "    import pandas as pd\n",
    "    import numpy as np\n",
    "    import os \n",
    "    import video_stuff\n",
    "    numSteps=bagsize\n",
    "    numFeats=no_of_features\n",
    "    try:\n",
    "        dataset_name = pd.read_csv(data_csv,index_col=0)\n",
    "    except:\n",
    "        dataset_name = data_csv\n",
    "    labels = dataset_name['label']\n",
    "\n",
    "\n",
    "    labels=pd.DataFrame(labels)\n",
    "\n",
    "    dataset_name.drop(['video_path','label'],axis=1,inplace=True)\n",
    "    filtered_train = dataset_name\n",
    "    filtered_target = labels\n",
    "\n",
    "    \n",
    "    print(filtered_train.shape)\n",
    "    print(filtered_target.shape)\n",
    "\n",
    "\n",
    "    y = filtered_target.values.reshape(int(len(filtered_target)/bagsize),bagsize)    #input bagsize\n",
    "\n",
    "    x = filtered_train.values\n",
    "\n",
    "                                                                                      #no_of_features=540\n",
    "    x = x.reshape(int(len(x) / bagsize),bagsize, no_of_features)  \n",
    "\n",
    "\n",
    "    print(x.shape)                         #(Bags, Timesteps, Features)\n",
    "\n",
    "\n",
    "\n",
    "    one_hot_list = []\n",
    "    for i in range(len(y)):\n",
    "        one_hot_list.append(set(y[i]).pop())\n",
    "\n",
    "    categorical_y_ver = one_hot_list\n",
    "    categorical_y_ver = np.array(categorical_y_ver)\n",
    "\n",
    "\n",
    "    def one_hot(y, numOutput):\n",
    "        y = np.reshape(y, [-1])\n",
    "        ret = np.zeros([y.shape[0], numOutput])\n",
    "        for i, label in enumerate(y):\n",
    "            ret[i, label] = 1\n",
    "        return ret\n",
    "\n",
    "\n",
    "    from sklearn.model_selection import train_test_split\n",
    "    import pathlib\n",
    "\n",
    "\n",
    "    x_train_val_combined, x_test, y_train_val_combined, y_test = train_test_split(x, categorical_y_ver, test_size=0.20, random_state=13)\n",
    "\n",
    "\n",
    "                                                                                            #extractedDir = '/home/adithyapa4444_gmail_com/'\n",
    "\n",
    "    timesteps = x_train_val_combined.shape[-2] #125\n",
    "    feats = x_train_val_combined.shape[-1]  #9\n",
    "\n",
    "    trainSize = int(x_train_val_combined.shape[0]*0.9) #6566\n",
    "    x_train, x_val = x_train_val_combined[:trainSize], x_train_val_combined[trainSize:] \n",
    "    y_train, y_val = y_train_val_combined[:trainSize], y_train_val_combined[trainSize:]\n",
    "\n",
    "    # normalization\n",
    "    x_train = np.reshape(x_train, [-1, feats])\n",
    "    mean = np.mean(x_train, axis=0)\n",
    "    std = np.std(x_train, axis=0)\n",
    "\n",
    "    # normalize train\n",
    "    x_train = x_train - mean\n",
    "    x_train = x_train / std\n",
    "    x_train = np.reshape(x_train, [-1, timesteps, feats])\n",
    "\n",
    "    # normalize val\n",
    "    x_val = np.reshape(x_val, [-1, feats])\n",
    "    x_val = x_val - mean\n",
    "    x_val = x_val / std\n",
    "    x_val = np.reshape(x_val, [-1, timesteps, feats])\n",
    "\n",
    "    # normalize test\n",
    "    x_test = np.reshape(x_test, [-1, feats])\n",
    "    x_test = x_test - mean\n",
    "    x_test = x_test / std\n",
    "    x_test = np.reshape(x_test, [-1, timesteps, feats])\n",
    "\n",
    "    # shuffle test, as this was remaining\n",
    "    idx = np.arange(len(x_test))\n",
    "    np.random.shuffle(idx)\n",
    "    x_test = x_test[idx]\n",
    "    y_test = y_test[idx]\n",
    "    extractedDir += '/'\n",
    "    if raw_create==0:\n",
    "        if (os.path.isdir(extractedDir+'RAW')):\n",
    "            print(\"A raw file already exsist in this directory\")\n",
    "            return\n",
    "        else:\n",
    "            numOutput = numClass\n",
    "            y_train = one_hot(y_train, numOutput)\n",
    "            y_val = one_hot(y_val, numOutput)\n",
    "            y_test = one_hot(y_test, numOutput)\n",
    "            \n",
    "\n",
    "            pathlib.Path(extractedDir + 'RAW').mkdir(parents=True, exist_ok = True)\n",
    "\n",
    "            np.save(extractedDir + \"RAW/x_train\", x_train)\n",
    "            np.save(extractedDir + \"RAW/y_train\", y_train)\n",
    "            np.save(extractedDir + \"RAW/x_test\", x_test)\n",
    "            np.save(extractedDir + \"RAW/y_test\", y_test)\n",
    "            np.save(extractedDir + \"RAW/x_val\", x_val)\n",
    "            np.save(extractedDir + \"RAW/y_val\", y_val)\n",
    "    numOutput = numClass\n",
    "    y_train = one_hot(y_train, numOutput)\n",
    "    y_val = one_hot(y_val, numOutput)\n",
    "    y_test = one_hot(y_test, numOutput)\n",
    "\n",
    "    data = {\n",
    "        'x_train' : x_train, \n",
    "        'y_train' : y_train, \n",
    "        'x_val' : x_val, \n",
    "        'y_val' : y_val, \n",
    "        'x_test' : x_test, \n",
    "        'y_test' : y_test\n",
    "    }\n",
    "            \n",
    "        \n",
    "\n",
    "    def loadData(dirname):\n",
    "        x_train = np.load(dirname + '/' + 'x_train.npy')\n",
    "        y_train = np.load(dirname + '/' + 'y_train.npy')\n",
    "        x_test = np.load(dirname + '/' + 'x_test.npy')\n",
    "        y_test = np.load(dirname + '/' + 'y_test.npy')\n",
    "        x_val = np.load(dirname + '/' + 'x_val.npy')\n",
    "        y_val = np.load(dirname + '/' + 'y_val.npy')\n",
    "        return x_train, y_train, x_test, y_test, x_val, y_val\n",
    "\n",
    "\n",
    "    def bagData(X, Y, subinstanceLen, subinstanceStride,numClass,numSteps,numFeats):\n",
    "        '''\n",
    "        Takes x and y of shape\n",
    "        [-1, 128, 9] and [-1, 6] respectively and converts it into bags of instances.\n",
    "        returns [-1, numInstance, ]\n",
    "        '''\n",
    "        #numClass = 2\n",
    "        #numSteps = 24 # Window length\n",
    "        #numFeats = 540 # Number of features\n",
    "        print(\"subinstanceLen:\",subinstanceLen,\"\\nsubinstanceStride :\", subinstanceStride,\"\\nnumClass:\",numClass,\"\\nnumSteps\",numSteps,\"\\nnumFeats\",numFeats)\n",
    "        print(\"X Shape :\",X.shape)\n",
    "        print(\"Y Shape :\",Y.shape)\n",
    "        assert X.ndim == 3\n",
    "        assert X.shape[1] == numSteps\n",
    "        assert X.shape[2] == numFeats\n",
    "        assert subinstanceLen <= numSteps\n",
    "        assert subinstanceLen > 0 # subinstance length = Number of readings for which the class signature occurs\n",
    "        assert subinstanceStride <= numSteps  \n",
    "        assert subinstanceStride >= 0 \n",
    "        assert len(X) == len(Y)\n",
    "        assert Y.ndim == 2\n",
    "        assert Y.shape[1] == numClass\n",
    "        x_bagged = []\n",
    "        y_bagged = []\n",
    "        for i, point in enumerate(X[:, :, :]):\n",
    "            instanceList = []\n",
    "            start = 0\n",
    "            end = subinstanceLen\n",
    "            while True:\n",
    "                x = point[start:end, :]\n",
    "                if len(x) < subinstanceLen:\n",
    "                    x_ = np.zeros([subinstanceLen, x.shape[1]])\n",
    "                    x_[:len(x), :] = x[:, :]\n",
    "                    x = x_\n",
    "                instanceList.append(x)\n",
    "                if end >= numSteps:\n",
    "                    break\n",
    "                start += subinstanceStride\n",
    "                end += subinstanceStride\n",
    "            bag = np.array(instanceList)\n",
    "            numSubinstance = bag.shape[0]\n",
    "            label = Y[i]\n",
    "            label = np.argmax(label)\n",
    "            labelBag = np.zeros([numSubinstance, numClass])\n",
    "            labelBag[:, label] = 1\n",
    "            x_bagged.append(bag)\n",
    "            label = np.array(labelBag)\n",
    "            y_bagged.append(label)\n",
    "        return np.array(x_bagged), np.array(y_bagged)\n",
    "\n",
    "                                                                                                            #sourceDir, outDir\n",
    "\n",
    "    def makeEMIData(subinstanceLen, subinstanceStride, data, sourceDir, outDir,numClass,numSteps,numFeats):\n",
    "        x_train, y_train, x_test, y_test, x_val, y_val = loadData(sourceDir)\n",
    "        try:\n",
    "            x_train, y_train = bagData(x_train, y_train, subinstanceLen, subinstanceStride,numClass,numSteps,numFeats)\n",
    "    #         np.save(outDir + '/x_train.npy', x)\n",
    "    #         np.save(outDir + '/y_train.npy', y)\n",
    "            print('Num train %d' % len(x))\n",
    "            x_test, y_test = bagData(x_test, y_test, subinstanceLen, subinstanceStride,numClass,numSteps,numFeats)\n",
    "    #         np.save(outDir + '/x_test.npy', x)\n",
    "    #         np.save(outDir + '/y_test.npy', y)\n",
    "            print('Num test %d' % len(x))\n",
    "            x_val, y_val = bagData(x_val, y_val, subinstanceLen, subinstanceStride,numClass,numSteps,numFeats)\n",
    "            print('Num val %d' % len(x))\n",
    "        except:\n",
    "            x_train, y_train = bagData(data['x_train'], data['y_train'], subinstanceLen, subinstanceStride,numClass,numSteps,numFeats)\n",
    "    #         np.save(outDir + '/x_train.npy', x)\n",
    "    #         np.save(outDir + '/y_train.npy', y)\n",
    "            print('Num train %d' % len(x))\n",
    "            x_test, y_test = bagData(data['x_test'], data['y_test'], subinstanceLen, subinstanceStride,numClass,numSteps,numFeats)\n",
    "    #         np.save(outDir + '/x_test.npy', x)\n",
    "    #         np.save(outDir + '/y_test.npy', y)\n",
    "            print('Num test %d' % len(x))\n",
    "            x_val, y_val = bagData(data['x_val'], data['y_val'], subinstanceLen, subinstanceStride,numClass,numSteps,numFeats)\n",
    "            print('Num val %d' % len(x))\n",
    "#         np.save(outDir + '/x_val.npy', x)\n",
    "#         np.save(outDir + '/y_val.npy', y)\n",
    "        \n",
    "        return(x_train, y_train, x_val, y_val, x_test, y_test)\n",
    "\n",
    "\n",
    "\n",
    "                                                                                        #subinstanceLen = 12\n",
    "                                                                                        #subinstanceStride = 3\n",
    "                                                                                        #extractedDir = '/home/adithyapa4444_gmail_com'\n",
    "    rawDir = extractedDir + 'RAW'\n",
    "    sourceDir = rawDir\n",
    "    from os import mkdir\n",
    "    # WHEN YOU CHANGE THE ABOVE - CREATE A FOLDER \n",
    "    if (not(os.path.isdir(extractedDir+'/'+str(subinstanceLen)+'_'+str(subinstanceStride)))):\n",
    "        mkdir(extractedDir+'/'+str(subinstanceLen)+'_'+str(subinstanceStride))  \n",
    "\n",
    "    outDir = extractedDir + '%d_%d' % (subinstanceLen, subinstanceStride)\n",
    "    return(makeEMIData(subinstanceLen, subinstanceStride, data, sourceDir, outDir,numClass,numSteps,numFeats))\n"
   ]
  },
  {
   "cell_type": "code",
   "execution_count": 5,
   "metadata": {},
   "outputs": [],
   "source": [
    "def get_hof(videopath,reduction_factor = 2):\n",
    "    cap = cv2.VideoCapture(videopath)\n",
    "    fps_counter = 0\n",
    "    feat_sets = []\n",
    "    ret, frame_prev = cap.read()\n",
    "    if not ret:\n",
    "        return\n",
    "    frame_prev = cv2.cvtColor(frame_prev, cv2.COLOR_BGR2GRAY)\n",
    "    frame_prev = cv2.resize(frame_prev, (120,160))\n",
    "    while cap.isOpened():\n",
    "        if (fps_counter%reduction_factor==0): #Reducing the fps by n (Reading every nth frame)\n",
    "            ret, frame_next = cap.read()\n",
    "            if not ret:\n",
    "                break\n",
    "            frame_next = cv2.cvtColor(frame_next, cv2.COLOR_BGR2GRAY)\n",
    "            frame_next = cv2.resize(frame_next, (120,160))\n",
    "            feat_sets.append(hof(flow = getFlow(frame_prev, frame_next), orientations = 5, cells_per_block = (6,6), pixels_per_cell = (20,20)))\n",
    "            frame_prev = frame_next.copy()\n",
    "        else:\n",
    "            _,_ = cap.read()\n",
    "            \n",
    "            \n",
    "            fps_counter+=1\n",
    "    feat_sets = np.asarray(feat_sets)\n",
    "    col_names = list('feat_' + str(i) for i in range(feat_sets.shape[-1]))\n",
    "    #hog_feats = np.asarray(hog_feats)\n",
    "    tuple_feats = list(map(lambda x: tuple(feat_sets[x]), range(len(feat_sets))))\n",
    "    df = pd.DataFrame(tuple_feats, columns = col_names)\n",
    "    df['video_path'] = videopath\n",
    "    return df"
   ]
  },
  {
   "cell_type": "code",
   "execution_count": 6,
   "metadata": {},
   "outputs": [],
   "source": [
    "import make_hof_half\n",
    "from make_hof_half import get_processed_hof\n",
    "import pandas as pd\n",
    "import os,datetime\n",
    "import matplotlib.pyplot as plt \n",
    "import numpy as np\n",
    "import cv2\n",
    "import pathlib\n",
    "import pickle as pkl\n",
    "from video_stuff import get_frames_per\n",
    "from video_stuff import hof,getFlow\n",
    "from time import time\n",
    "from metrics import emi_model_metrics\n",
    "import numpy as np\n",
    "import matplotlib"
   ]
  },
  {
   "cell_type": "code",
   "execution_count": 22,
   "metadata": {
    "scrolled": true
   },
   "outputs": [
    {
     "name": "stderr",
     "output_type": "stream",
     "text": [
      "/home/adithyapa4444_gmail_com/make_hof_half.py:87: FutureWarning: Sorting because non-concatenation axis is not aligned. A future version\n",
      "of pandas will change to not sort by default.\n",
      "\n",
      "To accept the future behavior, pass 'sort=False'.\n",
      "\n",
      "To retain the current behavior and silence the warning, pass 'sort=True'.\n",
      "\n",
      "  dfa=pd.concat([dfa,df])\n"
     ]
    },
    {
     "name": "stdout",
     "output_type": "stream",
     "text": [
      "(495168, 540)\n",
      "(495168, 1)\n",
      "(41264, 12, 540)\n",
      "subinstanceLen: 16 \n",
      "subinstanceStride : 4 \n",
      "numClass: 8 \n",
      "numSteps 12 \n",
      "numFeats 540\n",
      "X Shape : (5273, 64, 540)\n",
      "Y Shape : (5273, 8)\n",
      "subinstanceLen: 16 \n",
      "subinstanceStride : 4 \n",
      "numClass: 8 \n",
      "numSteps 12 \n",
      "numFeats 540\n",
      "X Shape : (29709, 12, 540)\n",
      "Y Shape : (29709, 8)\n"
     ]
    },
    {
     "ename": "AssertionError",
     "evalue": "",
     "output_type": "error",
     "traceback": [
      "\u001b[0;31m---------------------------------------------------------------------------\u001b[0m",
      "\u001b[0;31mAssertionError\u001b[0m                            Traceback (most recent call last)",
      "\u001b[0;32m<ipython-input-4-8f07f2a69cb7>\u001b[0m in \u001b[0;36mmakeEMIData\u001b[0;34m(subinstanceLen, subinstanceStride, data, sourceDir, outDir, numClass, numSteps, numFeats)\u001b[0m\n\u001b[1;32m    208\u001b[0m         \u001b[0;32mtry\u001b[0m\u001b[0;34m:\u001b[0m\u001b[0;34m\u001b[0m\u001b[0;34m\u001b[0m\u001b[0m\n\u001b[0;32m--> 209\u001b[0;31m             \u001b[0mx_train\u001b[0m\u001b[0;34m,\u001b[0m \u001b[0my_train\u001b[0m \u001b[0;34m=\u001b[0m \u001b[0mbagData\u001b[0m\u001b[0;34m(\u001b[0m\u001b[0mx_train\u001b[0m\u001b[0;34m,\u001b[0m \u001b[0my_train\u001b[0m\u001b[0;34m,\u001b[0m \u001b[0msubinstanceLen\u001b[0m\u001b[0;34m,\u001b[0m \u001b[0msubinstanceStride\u001b[0m\u001b[0;34m,\u001b[0m\u001b[0mnumClass\u001b[0m\u001b[0;34m,\u001b[0m\u001b[0mnumSteps\u001b[0m\u001b[0;34m,\u001b[0m\u001b[0mnumFeats\u001b[0m\u001b[0;34m)\u001b[0m\u001b[0;34m\u001b[0m\u001b[0;34m\u001b[0m\u001b[0m\n\u001b[0m\u001b[1;32m    210\u001b[0m     \u001b[0;31m#         np.save(outDir + '/x_train.npy', x)\u001b[0m\u001b[0;34m\u001b[0m\u001b[0;34m\u001b[0m\u001b[0;34m\u001b[0m\u001b[0m\n",
      "\u001b[0;32m<ipython-input-4-8f07f2a69cb7>\u001b[0m in \u001b[0;36mbagData\u001b[0;34m(X, Y, subinstanceLen, subinstanceStride, numClass, numSteps, numFeats)\u001b[0m\n\u001b[1;32m    166\u001b[0m         \u001b[0;32massert\u001b[0m \u001b[0mX\u001b[0m\u001b[0;34m.\u001b[0m\u001b[0mndim\u001b[0m \u001b[0;34m==\u001b[0m \u001b[0;36m3\u001b[0m\u001b[0;34m\u001b[0m\u001b[0;34m\u001b[0m\u001b[0m\n\u001b[0;32m--> 167\u001b[0;31m         \u001b[0;32massert\u001b[0m \u001b[0mX\u001b[0m\u001b[0;34m.\u001b[0m\u001b[0mshape\u001b[0m\u001b[0;34m[\u001b[0m\u001b[0;36m1\u001b[0m\u001b[0;34m]\u001b[0m \u001b[0;34m==\u001b[0m \u001b[0mnumSteps\u001b[0m\u001b[0;34m\u001b[0m\u001b[0;34m\u001b[0m\u001b[0m\n\u001b[0m\u001b[1;32m    168\u001b[0m         \u001b[0;32massert\u001b[0m \u001b[0mX\u001b[0m\u001b[0;34m.\u001b[0m\u001b[0mshape\u001b[0m\u001b[0;34m[\u001b[0m\u001b[0;36m2\u001b[0m\u001b[0;34m]\u001b[0m \u001b[0;34m==\u001b[0m \u001b[0mnumFeats\u001b[0m\u001b[0;34m\u001b[0m\u001b[0;34m\u001b[0m\u001b[0m\n",
      "\u001b[0;31mAssertionError\u001b[0m: ",
      "\nDuring handling of the above exception, another exception occurred:\n",
      "\u001b[0;31mAssertionError\u001b[0m                            Traceback (most recent call last)",
      "\u001b[0;32m<ipython-input-22-538f9bdf3970>\u001b[0m in \u001b[0;36m<module>\u001b[0;34m()\u001b[0m\n\u001b[1;32m     12\u001b[0m                   \u001b[0msubinstanceStride\u001b[0m\u001b[0;34m=\u001b[0m\u001b[0;36m4\u001b[0m\u001b[0;34m,\u001b[0m\u001b[0;34m\u001b[0m\u001b[0;34m\u001b[0m\u001b[0m\n\u001b[1;32m     13\u001b[0m                   \u001b[0mdata_csv\u001b[0m\u001b[0;34m=\u001b[0m\u001b[0mhof_df\u001b[0m\u001b[0;34m,\u001b[0m\u001b[0;34m\u001b[0m\u001b[0;34m\u001b[0m\u001b[0m\n\u001b[0;32m---> 14\u001b[0;31m                   \u001b[0mraw_create\u001b[0m\u001b[0;34m=\u001b[0m\u001b[0;36m1\u001b[0m\u001b[0;34m\u001b[0m\u001b[0;34m\u001b[0m\u001b[0m\n\u001b[0m\u001b[1;32m     15\u001b[0m                  )\n\u001b[1;32m     16\u001b[0m \u001b[0;34m\u001b[0m\u001b[0m\n",
      "\u001b[0;32m<ipython-input-4-8f07f2a69cb7>\u001b[0m in \u001b[0;36memirnn_preprocess\u001b[0;34m(bagsize, no_of_features, extractedDir, numClass, subinstanceLen, subinstanceStride, data_csv, raw_create)\u001b[0m\n\u001b[1;32m    246\u001b[0m \u001b[0;34m\u001b[0m\u001b[0m\n\u001b[1;32m    247\u001b[0m     \u001b[0moutDir\u001b[0m \u001b[0;34m=\u001b[0m \u001b[0mextractedDir\u001b[0m \u001b[0;34m+\u001b[0m \u001b[0;34m'%d_%d'\u001b[0m \u001b[0;34m%\u001b[0m \u001b[0;34m(\u001b[0m\u001b[0msubinstanceLen\u001b[0m\u001b[0;34m,\u001b[0m \u001b[0msubinstanceStride\u001b[0m\u001b[0;34m)\u001b[0m\u001b[0;34m\u001b[0m\u001b[0;34m\u001b[0m\u001b[0m\n\u001b[0;32m--> 248\u001b[0;31m     \u001b[0;32mreturn\u001b[0m\u001b[0;34m(\u001b[0m\u001b[0mmakeEMIData\u001b[0m\u001b[0;34m(\u001b[0m\u001b[0msubinstanceLen\u001b[0m\u001b[0;34m,\u001b[0m \u001b[0msubinstanceStride\u001b[0m\u001b[0;34m,\u001b[0m \u001b[0mdata\u001b[0m\u001b[0;34m,\u001b[0m \u001b[0msourceDir\u001b[0m\u001b[0;34m,\u001b[0m \u001b[0moutDir\u001b[0m\u001b[0;34m,\u001b[0m\u001b[0mnumClass\u001b[0m\u001b[0;34m,\u001b[0m\u001b[0mnumSteps\u001b[0m\u001b[0;34m,\u001b[0m\u001b[0mnumFeats\u001b[0m\u001b[0;34m)\u001b[0m\u001b[0;34m)\u001b[0m\u001b[0;34m\u001b[0m\u001b[0;34m\u001b[0m\u001b[0m\n\u001b[0m",
      "\u001b[0;32m<ipython-input-4-8f07f2a69cb7>\u001b[0m in \u001b[0;36mmakeEMIData\u001b[0;34m(subinstanceLen, subinstanceStride, data, sourceDir, outDir, numClass, numSteps, numFeats)\u001b[0m\n\u001b[1;32m    218\u001b[0m             \u001b[0mprint\u001b[0m\u001b[0;34m(\u001b[0m\u001b[0;34m'Num val %d'\u001b[0m \u001b[0;34m%\u001b[0m \u001b[0mlen\u001b[0m\u001b[0;34m(\u001b[0m\u001b[0mx\u001b[0m\u001b[0;34m)\u001b[0m\u001b[0;34m)\u001b[0m\u001b[0;34m\u001b[0m\u001b[0;34m\u001b[0m\u001b[0m\n\u001b[1;32m    219\u001b[0m         \u001b[0;32mexcept\u001b[0m\u001b[0;34m:\u001b[0m\u001b[0;34m\u001b[0m\u001b[0;34m\u001b[0m\u001b[0m\n\u001b[0;32m--> 220\u001b[0;31m             \u001b[0mx_train\u001b[0m\u001b[0;34m,\u001b[0m \u001b[0my_train\u001b[0m \u001b[0;34m=\u001b[0m \u001b[0mbagData\u001b[0m\u001b[0;34m(\u001b[0m\u001b[0mdata\u001b[0m\u001b[0;34m[\u001b[0m\u001b[0;34m'x_train'\u001b[0m\u001b[0;34m]\u001b[0m\u001b[0;34m,\u001b[0m \u001b[0mdata\u001b[0m\u001b[0;34m[\u001b[0m\u001b[0;34m'y_train'\u001b[0m\u001b[0;34m]\u001b[0m\u001b[0;34m,\u001b[0m \u001b[0msubinstanceLen\u001b[0m\u001b[0;34m,\u001b[0m \u001b[0msubinstanceStride\u001b[0m\u001b[0;34m,\u001b[0m\u001b[0mnumClass\u001b[0m\u001b[0;34m,\u001b[0m\u001b[0mnumSteps\u001b[0m\u001b[0;34m,\u001b[0m\u001b[0mnumFeats\u001b[0m\u001b[0;34m)\u001b[0m\u001b[0;34m\u001b[0m\u001b[0;34m\u001b[0m\u001b[0m\n\u001b[0m\u001b[1;32m    221\u001b[0m     \u001b[0;31m#         np.save(outDir + '/x_train.npy', x)\u001b[0m\u001b[0;34m\u001b[0m\u001b[0;34m\u001b[0m\u001b[0;34m\u001b[0m\u001b[0m\n\u001b[1;32m    222\u001b[0m     \u001b[0;31m#         np.save(outDir + '/y_train.npy', y)\u001b[0m\u001b[0;34m\u001b[0m\u001b[0;34m\u001b[0m\u001b[0;34m\u001b[0m\u001b[0m\n",
      "\u001b[0;32m<ipython-input-4-8f07f2a69cb7>\u001b[0m in \u001b[0;36mbagData\u001b[0;34m(X, Y, subinstanceLen, subinstanceStride, numClass, numSteps, numFeats)\u001b[0m\n\u001b[1;32m    167\u001b[0m         \u001b[0;32massert\u001b[0m \u001b[0mX\u001b[0m\u001b[0;34m.\u001b[0m\u001b[0mshape\u001b[0m\u001b[0;34m[\u001b[0m\u001b[0;36m1\u001b[0m\u001b[0;34m]\u001b[0m \u001b[0;34m==\u001b[0m \u001b[0mnumSteps\u001b[0m\u001b[0;34m\u001b[0m\u001b[0;34m\u001b[0m\u001b[0m\n\u001b[1;32m    168\u001b[0m         \u001b[0;32massert\u001b[0m \u001b[0mX\u001b[0m\u001b[0;34m.\u001b[0m\u001b[0mshape\u001b[0m\u001b[0;34m[\u001b[0m\u001b[0;36m2\u001b[0m\u001b[0;34m]\u001b[0m \u001b[0;34m==\u001b[0m \u001b[0mnumFeats\u001b[0m\u001b[0;34m\u001b[0m\u001b[0;34m\u001b[0m\u001b[0m\n\u001b[0;32m--> 169\u001b[0;31m         \u001b[0;32massert\u001b[0m \u001b[0msubinstanceLen\u001b[0m \u001b[0;34m<=\u001b[0m \u001b[0mnumSteps\u001b[0m\u001b[0;34m\u001b[0m\u001b[0;34m\u001b[0m\u001b[0m\n\u001b[0m\u001b[1;32m    170\u001b[0m         \u001b[0;32massert\u001b[0m \u001b[0msubinstanceLen\u001b[0m \u001b[0;34m>\u001b[0m \u001b[0;36m0\u001b[0m \u001b[0;31m# subinstance length = Number of readings for which the class signature occurs\u001b[0m\u001b[0;34m\u001b[0m\u001b[0;34m\u001b[0m\u001b[0m\n\u001b[1;32m    171\u001b[0m         \u001b[0;32massert\u001b[0m \u001b[0msubinstanceStride\u001b[0m \u001b[0;34m<=\u001b[0m \u001b[0mnumSteps\u001b[0m\u001b[0;34m\u001b[0m\u001b[0;34m\u001b[0m\u001b[0m\n",
      "\u001b[0;31mAssertionError\u001b[0m: "
     ]
    }
   ],
   "source": [
    "# start = time()\n",
    "hof_df = get_processed_hof(src_folder='/home/adithyapa4444_gmail_com/UCF_Crime/Full_UCrime/annotated/',bagsize=32,reduction_factor=2)\n",
    "# time_string = \"Bagsize : \"+str(4)+\"\\nReduction Factor : \"+str(6)+\"\\nTime :\" + str(time()-start) + \"\\nNumber of bags:\" + str(len(hof_df) // bag)\n",
    "# file_1.write(time_string)\n",
    "# file_1.close()\n",
    "df_copy = hof_df\n",
    "x_train, y_train, x_val, y_val, x_test, y_test = emirnn_preprocess(bagsize=12,\n",
    "                  no_of_features=540,\n",
    "                  extractedDir='/home/adithyapa4444_gmail_com/UCF_Crime/half/',\n",
    "                  numClass=8,\n",
    "                  subinstanceLen=16,\n",
    "                  subinstanceStride=4,\n",
    "                  data_csv=hof_df,\n",
    "                  raw_create=1\n",
    "                 )\n",
    "\n",
    "data = {\n",
    "    'x_train' : x_train, \n",
    "    'y_train' : y_train, \n",
    "    'x_val' : x_val, \n",
    "    'y_val' : y_val, \n",
    "    'x_test' : x_test, \n",
    "    'y_test' : y_test\n",
    "}"
   ]
  },
  {
   "cell_type": "markdown",
   "metadata": {},
   "source": [
    "# Loading Data"
   ]
  },
  {
   "cell_type": "code",
   "execution_count": null,
   "metadata": {
    "ExecuteTime": {
     "end_time": "2019-04-30T09:52:00.022110Z",
     "start_time": "2019-04-30T09:51:59.925101Z"
    }
   },
   "outputs": [],
   "source": [
    "path=\"/home/adithyapa4444_gmail_com/UCF_Crime/Full_UCrime_4d/64_16/\"\n",
    "# x_train, y_train = np.load(path + 'x_train.npy'), np.load(path + 'y_train.npy')\n",
    "# x_test, y_test = np.load(path + 'x_test.npy'), np.load(path + 'y_test.npy')\n",
    "# x_val, y_val = np.load(path + 'x_val.npy'), np.load(path + 'y_val.npy')\n",
    "\n",
    "# BAG_TEST, BAG_TRAIN, BAG_VAL represent bag_level labels. These are used for the label update\n",
    "# step of EMI/MI RNN\n",
    "BAG_TEST = np.argmax(y_test[:, 0, :], axis=1)\n",
    "BAG_TRAIN = np.argmax(y_train[:, 0, :], axis=1)\n",
    "BAG_VAL = np.argmax(y_val[:, 0, :], axis=1)\n",
    "NUM_SUBINSTANCE = x_train.shape[1]\n",
    "print(\"x_train shape is:\", x_train.shape)\n",
    "print(\"y_train shape is:\", y_train.shape)\n",
    "print(\"x_test shape is:\", x_val.shape)\n",
    "print(\"y_test shape is:\", y_val.shape)"
   ]
  },
  {
   "cell_type": "code",
   "execution_count": 10,
   "metadata": {},
   "outputs": [],
   "source": [
    "x_test = x_test[:1]\n",
    "y_test = y_test[:1]\n",
    "np.save(path + 'x_test_pi',x_test)\n",
    "np.save(path + 'y_test_pi',y_test)"
   ]
  },
  {
   "cell_type": "code",
   "execution_count": null,
   "metadata": {
    "ExecuteTime": {
     "end_time": "2019-04-30T09:52:00.604049Z",
     "start_time": "2019-04-30T09:52:00.589634Z"
    }
   },
   "outputs": [],
   "source": [
    "# Define the linear secondary classifier\n",
    "def createExtendedGraph(self, baseOutput, *args, **kwargs):\n",
    "    W1 = tf.Variable(np.random.normal(size=[NUM_HIDDEN, NUM_OUTPUT]).astype('float32'), name='W1')\n",
    "    B1 = tf.Variable(np.random.normal(size=[NUM_OUTPUT]).astype('float32'), name='B1')\n",
    "    y_cap = tf.add(tf.tensordot(baseOutput, W1, axes=1), B1, name='y_cap_tata')\n",
    "    self.output = y_cap\n",
    "    self.graphCreated = True\n",
    "    \n",
    "def addExtendedAssignOps(self, graph, W_val=None, B_val=None):\n",
    "    W1 = graph.get_tensor_by_name('W1:0')\n",
    "    B1 = graph.get_tensor_by_name('B1:0')\n",
    "    W1_op = tf.assign(W1, W_val)\n",
    "    B1_op = tf.assign(B1, B_val)\n",
    "    self.assignOps.extend([W1_op, B1_op])\n",
    "\n",
    "def restoreExtendedGraph(self, graph, *args, **kwargs):\n",
    "    y_cap = graph.get_tensor_by_name('y_cap_tata:0')\n",
    "    self.output = y_cap\n",
    "    self.graphCreated = True\n",
    "    \n",
    "def feedDictFunc(self, keep_prob=None, inference=False, **kwargs):\n",
    "    if inference is False:\n",
    "        feedDict = {self._emiGraph.keep_prob: keep_prob}\n",
    "    else:\n",
    "        feedDict = {self._emiGraph.keep_prob: 1.0}\n",
    "    return feedDict\n",
    "\n",
    "EMI_FastGRNN._createExtendedGraph = createExtendedGraph\n",
    "EMI_FastGRNN._restoreExtendedGraph = restoreExtendedGraph\n",
    "EMI_FastGRNN.addExtendedAssignOps = addExtendedAssignOps\n",
    "\n",
    "def earlyPolicy_minProb(instanceOut, minProb, **kwargs):\n",
    "    assert instanceOut.ndim == 2\n",
    "    classes = np.argmax(instanceOut, axis=1)\n",
    "    prob = np.max(instanceOut, axis=1)\n",
    "    index = np.where(prob >= minProb)[0]\n",
    "    if len(index) == 0:\n",
    "        assert (len(instanceOut) - 1) == (len(classes) - 1)\n",
    "        return classes[-1], len(instanceOut) - 1\n",
    "    index = index[0]\n",
    "    return classes[index], index\n",
    "\n",
    "\n",
    "if USE_DROPOUT is True:\n",
    "    EMI_Driver.feedDictFunc = feedDictFunc"
   ]
  },
  {
   "cell_type": "markdown",
   "metadata": {
    "ExecuteTime": {
     "end_time": "2018-08-19T09:34:06.288012Z",
     "start_time": "2018-08-19T09:34:06.285286Z"
    }
   },
   "source": [
    "## 1. Initializing a New Computation Graph\n",
    "\n",
    "In the most common use cases, a new EMI-RNN graph would be created and trained"
   ]
  },
  {
   "cell_type": "code",
   "execution_count": null,
   "metadata": {
    "ExecuteTime": {
     "end_time": "2019-04-30T09:52:10.701762Z",
     "start_time": "2019-04-30T09:52:02.074816Z"
    }
   },
   "outputs": [],
   "source": [
    "tf.reset_default_graph()\n",
    "\n",
    "inputPipeline = EMI_DataPipeline(NUM_SUBINSTANCE, NUM_TIMESTEPS, NUM_FEATS, NUM_OUTPUT)\n",
    "emiLSTM = EMI_FastGRNN(NUM_SUBINSTANCE, NUM_HIDDEN, NUM_TIMESTEPS, NUM_FEATS, wRank=WRANK, uRank=URANK, \n",
    "                              gate_non_linearity=GATE_NL, update_non_linearity=UPDATE_NL, useDropout=USE_DROPOUT)\n",
    "emiTrainer = EMI_Trainer(NUM_TIMESTEPS, NUM_OUTPUT, lossType='xentropy')\n",
    "\n",
    "# Construct the graph\n",
    "g1 = tf.Graph()    \n",
    "with g1.as_default():\n",
    "    x_batch, y_batch = inputPipeline()\n",
    "    y_cap = emiLSTM(x_batch)\n",
    "    emiTrainer(y_cap, y_batch)\n",
    "    \n",
    "with g1.as_default():\n",
    "    emiDriver = EMI_Driver(inputPipeline, emiLSTM, emiTrainer)\n"
   ]
  },
  {
   "cell_type": "markdown",
   "metadata": {},
   "source": [
    "Lets initialize a new session with this graph and train a model. The saved model will be used later for restoring."
   ]
  },
  {
   "cell_type": "code",
   "execution_count": null,
   "metadata": {
    "ExecuteTime": {
     "end_time": "2019-04-25T06:25:20.220063Z",
     "start_time": "2019-04-25T06:25:19.987538Z"
    }
   },
   "outputs": [],
   "source": [
    "emiDriver.initializeSession(g1)\n",
    "y_updated, modelStats = emiDriver.run(numClasses=NUM_OUTPUT, x_train=x_train,\n",
    "                                     y_train=y_train, bag_train=BAG_TRAIN,\n",
    "                                     x_val=x_val, y_val=y_val, bag_val=BAG_VAL,\n",
    "                                     numIter=NUM_ITER, keep_prob=KEEP_PROB,\n",
    "                                     numRounds=NUM_ROUNDS, batchSize=BATCH_SIZE,\n",
    "                                     numEpochs=NUM_EPOCHS, modelPrefix=MODEL_PREFIX,\n",
    "                                     fracEMI=0.5, updatePolicy='top-k', k=1)"
   ]
  },
  {
   "cell_type": "markdown",
   "metadata": {},
   "source": [
    "As the output above indicates, the last restored model is `/tmp/model-lstm-1001`. That is, with `MODEL_PREFIX = '/tmp/model-lstm'` and `GLOBAL_STEP=1001`."
   ]
  },
  {
   "cell_type": "code",
   "execution_count": 18,
   "metadata": {
    "ExecuteTime": {
     "end_time": "2018-08-19T11:48:33.294431Z",
     "start_time": "2018-08-19T11:48:32.897376Z"
    },
    "collapsed": true
   },
   "outputs": [
    {
     "ename": "TypeError",
     "evalue": "Cannot interpret feed_dict key as Tensor: Tensor Tensor(\"EMI/input-pipeline/inpX:0\", shape=(?, 4, 3, 540), dtype=float32) is not an element of this graph.",
     "output_type": "error",
     "traceback": [
      "\u001b[0;31m---------------------------------------------------------------------------\u001b[0m",
      "\u001b[0;31mValueError\u001b[0m                                Traceback (most recent call last)",
      "\u001b[0;32m/home/adithyapa4444_gmail_com/.local/lib/python3.6/site-packages/tensorflow/python/client/session.py\u001b[0m in \u001b[0;36m_run\u001b[0;34m(self, handle, fetches, feed_dict, options, run_metadata)\u001b[0m\n\u001b[1;32m   1112\u001b[0m             subfeed_t = self.graph.as_graph_element(\n\u001b[0;32m-> 1113\u001b[0;31m                 subfeed, allow_tensor=True, allow_operation=False)\n\u001b[0m\u001b[1;32m   1114\u001b[0m           \u001b[0;32mexcept\u001b[0m \u001b[0mException\u001b[0m \u001b[0;32mas\u001b[0m \u001b[0me\u001b[0m\u001b[0;34m:\u001b[0m\u001b[0;34m\u001b[0m\u001b[0;34m\u001b[0m\u001b[0m\n",
      "\u001b[0;32m/home/adithyapa4444_gmail_com/.local/lib/python3.6/site-packages/tensorflow/python/framework/ops.py\u001b[0m in \u001b[0;36mas_graph_element\u001b[0;34m(self, obj, allow_tensor, allow_operation)\u001b[0m\n\u001b[1;32m   3795\u001b[0m     \u001b[0;32mwith\u001b[0m \u001b[0mself\u001b[0m\u001b[0;34m.\u001b[0m\u001b[0m_lock\u001b[0m\u001b[0;34m:\u001b[0m\u001b[0;34m\u001b[0m\u001b[0;34m\u001b[0m\u001b[0m\n\u001b[0;32m-> 3796\u001b[0;31m       \u001b[0;32mreturn\u001b[0m \u001b[0mself\u001b[0m\u001b[0;34m.\u001b[0m\u001b[0m_as_graph_element_locked\u001b[0m\u001b[0;34m(\u001b[0m\u001b[0mobj\u001b[0m\u001b[0;34m,\u001b[0m \u001b[0mallow_tensor\u001b[0m\u001b[0;34m,\u001b[0m \u001b[0mallow_operation\u001b[0m\u001b[0;34m)\u001b[0m\u001b[0;34m\u001b[0m\u001b[0;34m\u001b[0m\u001b[0m\n\u001b[0m\u001b[1;32m   3797\u001b[0m \u001b[0;34m\u001b[0m\u001b[0m\n",
      "\u001b[0;32m/home/adithyapa4444_gmail_com/.local/lib/python3.6/site-packages/tensorflow/python/framework/ops.py\u001b[0m in \u001b[0;36m_as_graph_element_locked\u001b[0;34m(self, obj, allow_tensor, allow_operation)\u001b[0m\n\u001b[1;32m   3874\u001b[0m       \u001b[0;32mif\u001b[0m \u001b[0mobj\u001b[0m\u001b[0;34m.\u001b[0m\u001b[0mgraph\u001b[0m \u001b[0;32mis\u001b[0m \u001b[0;32mnot\u001b[0m \u001b[0mself\u001b[0m\u001b[0;34m:\u001b[0m\u001b[0;34m\u001b[0m\u001b[0;34m\u001b[0m\u001b[0m\n\u001b[0;32m-> 3875\u001b[0;31m         \u001b[0;32mraise\u001b[0m \u001b[0mValueError\u001b[0m\u001b[0;34m(\u001b[0m\u001b[0;34m\"Tensor %s is not an element of this graph.\"\u001b[0m \u001b[0;34m%\u001b[0m \u001b[0mobj\u001b[0m\u001b[0;34m)\u001b[0m\u001b[0;34m\u001b[0m\u001b[0;34m\u001b[0m\u001b[0m\n\u001b[0m\u001b[1;32m   3876\u001b[0m       \u001b[0;32mreturn\u001b[0m \u001b[0mobj\u001b[0m\u001b[0;34m\u001b[0m\u001b[0;34m\u001b[0m\u001b[0m\n",
      "\u001b[0;31mValueError\u001b[0m: Tensor Tensor(\"EMI/input-pipeline/inpX:0\", shape=(?, 4, 3, 540), dtype=float32) is not an element of this graph.",
      "\nDuring handling of the above exception, another exception occurred:\n",
      "\u001b[0;31mTypeError\u001b[0m                                 Traceback (most recent call last)",
      "\u001b[0;32m<ipython-input-18-5022d8e5d247>\u001b[0m in \u001b[0;36m<module>\u001b[0;34m()\u001b[0m\n\u001b[1;32m     14\u001b[0m \u001b[0mk\u001b[0m \u001b[0;34m=\u001b[0m \u001b[0;36m2\u001b[0m\u001b[0;34m\u001b[0m\u001b[0;34m\u001b[0m\u001b[0m\n\u001b[1;32m     15\u001b[0m predictions, predictionStep = emiDriver.getInstancePredictions(x_test, y_test, earlyPolicy_minProb,\n\u001b[0;32m---> 16\u001b[0;31m                                                                minProb=0.99, keep_prob=1.0)\n\u001b[0m\u001b[1;32m     17\u001b[0m \u001b[0mbagPredictions\u001b[0m \u001b[0;34m=\u001b[0m \u001b[0memiDriver\u001b[0m\u001b[0;34m.\u001b[0m\u001b[0mgetBagPredictions\u001b[0m\u001b[0;34m(\u001b[0m\u001b[0mpredictions\u001b[0m\u001b[0;34m,\u001b[0m \u001b[0mminSubsequenceLen\u001b[0m\u001b[0;34m=\u001b[0m\u001b[0mk\u001b[0m\u001b[0;34m,\u001b[0m \u001b[0mnumClass\u001b[0m\u001b[0;34m=\u001b[0m\u001b[0mNUM_OUTPUT\u001b[0m\u001b[0;34m)\u001b[0m\u001b[0;34m\u001b[0m\u001b[0;34m\u001b[0m\u001b[0m\n\u001b[1;32m     18\u001b[0m \u001b[0mprint\u001b[0m\u001b[0;34m(\u001b[0m\u001b[0;34m'Accuracy at k = %d: %f'\u001b[0m \u001b[0;34m%\u001b[0m \u001b[0;34m(\u001b[0m\u001b[0mk\u001b[0m\u001b[0;34m,\u001b[0m  \u001b[0mnp\u001b[0m\u001b[0;34m.\u001b[0m\u001b[0mmean\u001b[0m\u001b[0;34m(\u001b[0m\u001b[0;34m(\u001b[0m\u001b[0mbagPredictions\u001b[0m \u001b[0;34m==\u001b[0m \u001b[0mBAG_TEST\u001b[0m\u001b[0;34m)\u001b[0m\u001b[0;34m.\u001b[0m\u001b[0mastype\u001b[0m\u001b[0;34m(\u001b[0m\u001b[0mint\u001b[0m\u001b[0;34m)\u001b[0m\u001b[0;34m)\u001b[0m\u001b[0;34m)\u001b[0m\u001b[0;34m)\u001b[0m\u001b[0;34m\u001b[0m\u001b[0;34m\u001b[0m\u001b[0m\n",
      "\u001b[0;32m/home/adithyapa4444_gmail_com/emirnnTrainer.py\u001b[0m in \u001b[0;36mgetInstancePredictions\u001b[0;34m(self, x, y, earlyPolicy, batchSize, feedDict, **kwargs)\u001b[0m\n\u001b[1;32m    730\u001b[0m             \u001b[0;32massert\u001b[0m \u001b[0mkwargs\u001b[0m\u001b[0;34m[\u001b[0m\u001b[0;34m'keep_prob'\u001b[0m\u001b[0;34m]\u001b[0m \u001b[0;34m==\u001b[0m \u001b[0;36m1\u001b[0m\u001b[0;34m,\u001b[0m \u001b[0;34m'Keep prob should be 1.0'\u001b[0m\u001b[0;34m\u001b[0m\u001b[0;34m\u001b[0m\u001b[0m\n\u001b[1;32m    731\u001b[0m         smxOut = self.runOps(opList, x, y, batchSize, feedDict=feedDict,\n\u001b[0;32m--> 732\u001b[0;31m                              **kwargs)\n\u001b[0m\u001b[1;32m    733\u001b[0m         \u001b[0msoftmaxOut\u001b[0m \u001b[0;34m=\u001b[0m \u001b[0mnp\u001b[0m\u001b[0;34m.\u001b[0m\u001b[0mconcatenate\u001b[0m\u001b[0;34m(\u001b[0m\u001b[0msmxOut\u001b[0m\u001b[0;34m,\u001b[0m \u001b[0maxis\u001b[0m\u001b[0;34m=\u001b[0m\u001b[0;36m0\u001b[0m\u001b[0;34m)\u001b[0m\u001b[0;34m\u001b[0m\u001b[0;34m\u001b[0m\u001b[0m\n\u001b[1;32m    734\u001b[0m         \u001b[0;32massert\u001b[0m \u001b[0msoftmaxOut\u001b[0m\u001b[0;34m.\u001b[0m\u001b[0mndim\u001b[0m \u001b[0;34m==\u001b[0m \u001b[0;36m4\u001b[0m\u001b[0;34m\u001b[0m\u001b[0;34m\u001b[0m\u001b[0m\n",
      "\u001b[0;32m/home/adithyapa4444_gmail_com/emirnnTrainer.py\u001b[0m in \u001b[0;36mrunOps\u001b[0;34m(self, opList, X, Y, batchSize, feedDict, **kwargs)\u001b[0m\n\u001b[1;32m    408\u001b[0m             \u001b[0mfeedDict\u001b[0m \u001b[0;34m=\u001b[0m \u001b[0mself\u001b[0m\u001b[0;34m.\u001b[0m\u001b[0mfeedDictFunc\u001b[0m\u001b[0;34m(\u001b[0m\u001b[0;34m**\u001b[0m\u001b[0mkwargs\u001b[0m\u001b[0;34m)\u001b[0m\u001b[0;34m\u001b[0m\u001b[0;34m\u001b[0m\u001b[0m\n\u001b[1;32m    409\u001b[0m         self._dataPipe.runInitializer(sess, X, Y, batchSize,\n\u001b[0;32m--> 410\u001b[0;31m                                        numEpochs=1)\n\u001b[0m\u001b[1;32m    411\u001b[0m         \u001b[0moutList\u001b[0m \u001b[0;34m=\u001b[0m \u001b[0;34m[\u001b[0m\u001b[0;34m]\u001b[0m\u001b[0;34m\u001b[0m\u001b[0;34m\u001b[0m\u001b[0m\n\u001b[1;32m    412\u001b[0m         \u001b[0;32mwhile\u001b[0m \u001b[0;32mTrue\u001b[0m\u001b[0;34m:\u001b[0m\u001b[0;34m\u001b[0m\u001b[0;34m\u001b[0m\u001b[0m\n",
      "\u001b[0;32m/home/adithyapa4444_gmail_com/rnn.py\u001b[0m in \u001b[0;36mrunInitializer\u001b[0;34m(self, sess, x_data, y_data, batchSize, numEpochs)\u001b[0m\n\u001b[1;32m    554\u001b[0m         }\n\u001b[1;32m    555\u001b[0m         \u001b[0;32massert\u001b[0m \u001b[0mself\u001b[0m\u001b[0;34m.\u001b[0m\u001b[0mdataset_init\u001b[0m \u001b[0;32mis\u001b[0m \u001b[0;32mnot\u001b[0m \u001b[0;32mNone\u001b[0m\u001b[0;34m,\u001b[0m \u001b[0;34m'Internal error!'\u001b[0m\u001b[0;34m\u001b[0m\u001b[0;34m\u001b[0m\u001b[0m\n\u001b[0;32m--> 556\u001b[0;31m         \u001b[0msess\u001b[0m\u001b[0;34m.\u001b[0m\u001b[0mrun\u001b[0m\u001b[0;34m(\u001b[0m\u001b[0mself\u001b[0m\u001b[0;34m.\u001b[0m\u001b[0mdataset_init\u001b[0m\u001b[0;34m,\u001b[0m \u001b[0mfeed_dict\u001b[0m\u001b[0;34m=\u001b[0m\u001b[0mfeed_dict\u001b[0m\u001b[0;34m)\u001b[0m\u001b[0;34m\u001b[0m\u001b[0;34m\u001b[0m\u001b[0m\n\u001b[0m\u001b[1;32m    557\u001b[0m \u001b[0;34m\u001b[0m\u001b[0m\n\u001b[1;32m    558\u001b[0m \u001b[0;34m\u001b[0m\u001b[0m\n",
      "\u001b[0;32m/home/adithyapa4444_gmail_com/.local/lib/python3.6/site-packages/tensorflow/python/client/session.py\u001b[0m in \u001b[0;36mrun\u001b[0;34m(self, fetches, feed_dict, options, run_metadata)\u001b[0m\n\u001b[1;32m    948\u001b[0m     \u001b[0;32mtry\u001b[0m\u001b[0;34m:\u001b[0m\u001b[0;34m\u001b[0m\u001b[0;34m\u001b[0m\u001b[0m\n\u001b[1;32m    949\u001b[0m       result = self._run(None, fetches, feed_dict, options_ptr,\n\u001b[0;32m--> 950\u001b[0;31m                          run_metadata_ptr)\n\u001b[0m\u001b[1;32m    951\u001b[0m       \u001b[0;32mif\u001b[0m \u001b[0mrun_metadata\u001b[0m\u001b[0;34m:\u001b[0m\u001b[0;34m\u001b[0m\u001b[0;34m\u001b[0m\u001b[0m\n\u001b[1;32m    952\u001b[0m         \u001b[0mproto_data\u001b[0m \u001b[0;34m=\u001b[0m \u001b[0mtf_session\u001b[0m\u001b[0;34m.\u001b[0m\u001b[0mTF_GetBuffer\u001b[0m\u001b[0;34m(\u001b[0m\u001b[0mrun_metadata_ptr\u001b[0m\u001b[0;34m)\u001b[0m\u001b[0;34m\u001b[0m\u001b[0;34m\u001b[0m\u001b[0m\n",
      "\u001b[0;32m/home/adithyapa4444_gmail_com/.local/lib/python3.6/site-packages/tensorflow/python/client/session.py\u001b[0m in \u001b[0;36m_run\u001b[0;34m(self, handle, fetches, feed_dict, options, run_metadata)\u001b[0m\n\u001b[1;32m   1114\u001b[0m           \u001b[0;32mexcept\u001b[0m \u001b[0mException\u001b[0m \u001b[0;32mas\u001b[0m \u001b[0me\u001b[0m\u001b[0;34m:\u001b[0m\u001b[0;34m\u001b[0m\u001b[0;34m\u001b[0m\u001b[0m\n\u001b[1;32m   1115\u001b[0m             raise TypeError(\n\u001b[0;32m-> 1116\u001b[0;31m                 'Cannot interpret feed_dict key as Tensor: ' + e.args[0])\n\u001b[0m\u001b[1;32m   1117\u001b[0m \u001b[0;34m\u001b[0m\u001b[0m\n\u001b[1;32m   1118\u001b[0m           \u001b[0;32mif\u001b[0m \u001b[0misinstance\u001b[0m\u001b[0;34m(\u001b[0m\u001b[0msubfeed_val\u001b[0m\u001b[0;34m,\u001b[0m \u001b[0mops\u001b[0m\u001b[0;34m.\u001b[0m\u001b[0mTensor\u001b[0m\u001b[0;34m)\u001b[0m\u001b[0;34m:\u001b[0m\u001b[0;34m\u001b[0m\u001b[0;34m\u001b[0m\u001b[0m\n",
      "\u001b[0;31mTypeError\u001b[0m: Cannot interpret feed_dict key as Tensor: Tensor Tensor(\"EMI/input-pipeline/inpX:0\", shape=(?, 4, 3, 540), dtype=float32) is not an element of this graph."
     ]
    }
   ],
   "source": [
    "def earlyPolicy_minProb(instanceOut, minProb, **kwargs):\n",
    "    assert instanceOut.ndim == 2\n",
    "    classes = np.argmax(instanceOut, axis=1)\n",
    "    prob = np.max(instanceOut, axis=1)\n",
    "    index = np.where(prob >= minProb)[0]\n",
    "    if len(index) == 0:\n",
    "        assert (len(instanceOut) - 1) == (len(classes) - 1)\n",
    "        return classes[-1], len(instanceOut) - 1\n",
    "    index = index[0]\n",
    "    return classes[index], index\n",
    "\n",
    "emiDriver.initializeSession(g1)\n",
    "\n",
    "k = 2\n",
    "predictions, predictionStep = emiDriver.getInstancePredictions(x_test, y_test, earlyPolicy_minProb,\n",
    "                                                               minProb=0.99, keep_prob=1.0)\n",
    "bagPredictions = emiDriver.getBagPredictions(predictions, minSubsequenceLen=k, numClass=NUM_OUTPUT)\n",
    "print('Accuracy at k = %d: %f' % (k,  np.mean((bagPredictions == BAG_TEST).astype(int))))\n",
    "\n",
    "k = 2\n",
    "predictions, predictionStep = emiDriver.getInstancePredictions(x_test, y_test, earlyPolicy_minProb, minProb=0.99)\n",
    "bagPredictions = emiDriver.getBagPredictions(predictions, minSubsequenceLen=k, numClass=NUM_OUTPUT)\n",
    "print('Accuracy at k = %d: %f' % (k,  np.mean((bagPredictions == BAG_TEST).astype(int))))\n",
    "print('Additional savings: %f' % getEarlySaving(predictionStep, NUM_TIMESTEPS))"
   ]
  },
  {
   "cell_type": "markdown",
   "metadata": {},
   "source": [
    "## 2. Loading a Saved Graph into EMI-Driver\n",
    "\n",
    "We will reset the computation graph, load a saved graph into the current `EMI_Driver` and verify its outputs."
   ]
  },
  {
   "cell_type": "code",
   "execution_count": 8,
   "metadata": {},
   "outputs": [
    {
     "data": {
      "text/plain": [
       "'/home/adithyapa4444_gmail_com/KTH_fastgrnn/model-fastgrnn'"
      ]
     },
     "execution_count": 8,
     "metadata": {},
     "output_type": "execute_result"
    }
   ],
   "source": [
    "MODEL_PREFIX"
   ]
  },
  {
   "cell_type": "code",
   "execution_count": 18,
   "metadata": {
    "ExecuteTime": {
     "end_time": "2019-04-25T06:24:09.713351Z",
     "start_time": "2019-04-25T06:24:09.638610Z"
    }
   },
   "outputs": [
    {
     "name": "stdout",
     "output_type": "stream",
     "text": [
      "INFO:tensorflow:Restoring parameters from /home/adithyapa4444_gmail_com/CRIME_halfFPS_fastgrnn/model-fastgrnn-1037\n"
     ]
    }
   ],
   "source": [
    "tf.reset_default_graph()\n",
    "emiDriver.initializeSession(g1)\n",
    "emiDriver.loadSavedGraphToNewSession(MODEL_PREFIX , 1037)\n",
    "k = 2"
   ]
  },
  {
   "cell_type": "code",
   "execution_count": 17,
   "metadata": {
    "ExecuteTime": {
     "end_time": "2019-04-25T06:24:09.713351Z",
     "start_time": "2019-04-25T06:24:09.638610Z"
    }
   },
   "outputs": [
    {
     "name": "stdout",
     "output_type": "stream",
     "text": [
      "0.0051479339599609375\n",
      "Accuracy at k = 3: 0.520548\n",
      "Additional savings: 0.791667\n",
      "CPU times: user 9.17 ms, sys: 39 µs, total: 9.21 ms\n",
      "Wall time: 5.46 ms\n"
     ]
    }
   ],
   "source": [
    "%%time\n",
    "k=3\n",
    "import time\n",
    "start = time.time()\n",
    "predictions, predictionStep = emiDriver.getInstancePredictions(x_test, y_test, earlyPolicy_minProb,\n",
    "                                                               minProb=0.99, keep_prob=1.0)\n",
    "bagPredictions = emiDriver.getBagPredictions(predictions, minSubsequenceLen=k, numClass=NUM_OUTPUT)\n",
    "print(time.time() - start)\n",
    "print('Accuracy at k = %d: %f' % (k,  np.mean((bagPredictions == BAG_TEST).astype(int))))\n",
    "def getEarlySaving(predictionStep, numTimeSteps, returnTotal=False):\n",
    "    predictionStep = predictionStep + 1\n",
    "    predictionStep = np.reshape(predictionStep, -1)\n",
    "    totalSteps = np.sum(predictionStep)\n",
    "    maxSteps = len(predictionStep) * numTimeSteps\n",
    "    savings = 1.0 - (totalSteps / maxSteps)\n",
    "    if returnTotal:\n",
    "        return savings, totalSteps\n",
    "    return savings\n",
    "print('Additional savings: %f' % getEarlySaving(predictionStep, NUM_TIMESTEPS))"
   ]
  },
  {
   "cell_type": "code",
   "execution_count": 19,
   "metadata": {},
   "outputs": [
    {
     "data": {
      "text/plain": [
       "(1, 4, 6, 540)"
      ]
     },
     "execution_count": 19,
     "metadata": {},
     "output_type": "execute_result"
    }
   ],
   "source": [
    "x_test.shape"
   ]
  },
  {
   "cell_type": "code",
   "execution_count": 28,
   "metadata": {
    "ExecuteTime": {
     "end_time": "2019-04-25T06:24:09.713351Z",
     "start_time": "2019-04-25T06:24:09.638610Z"
    }
   },
   "outputs": [
    {
     "name": "stderr",
     "output_type": "stream",
     "text": [
      "/usr/lib/python3/dist-packages/ipykernel_launcher.py:1: DeprecationWarning: elementwise comparison failed; this will raise an error in the future.\n",
      "  \"\"\"Entry point for launching an IPython kernel.\n"
     ]
    },
    {
     "ename": "AttributeError",
     "evalue": "'bool' object has no attribute 'astype'",
     "output_type": "error",
     "traceback": [
      "\u001b[0;31m---------------------------------------------------------------------------\u001b[0m",
      "\u001b[0;31mAttributeError\u001b[0m                            Traceback (most recent call last)",
      "\u001b[0;32m<ipython-input-28-f9c41a01b71c>\u001b[0m in \u001b[0;36m<module>\u001b[0;34m()\u001b[0m\n\u001b[0;32m----> 1\u001b[0;31m \u001b[0mprint\u001b[0m\u001b[0;34m(\u001b[0m\u001b[0;34m'Accuracy at k = %d: %f'\u001b[0m \u001b[0;34m%\u001b[0m \u001b[0;34m(\u001b[0m\u001b[0mk\u001b[0m\u001b[0;34m,\u001b[0m  \u001b[0mnp\u001b[0m\u001b[0;34m.\u001b[0m\u001b[0mmean\u001b[0m\u001b[0;34m(\u001b[0m\u001b[0;34m(\u001b[0m\u001b[0mbagPredictions\u001b[0m \u001b[0;34m==\u001b[0m \u001b[0mBAG_TEST\u001b[0m\u001b[0;34m)\u001b[0m\u001b[0;34m.\u001b[0m\u001b[0mastype\u001b[0m\u001b[0;34m(\u001b[0m\u001b[0mint\u001b[0m\u001b[0;34m)\u001b[0m\u001b[0;34m)\u001b[0m\u001b[0;34m)\u001b[0m\u001b[0;34m)\u001b[0m\u001b[0;34m\u001b[0m\u001b[0;34m\u001b[0m\u001b[0m\n\u001b[0m",
      "\u001b[0;31mAttributeError\u001b[0m: 'bool' object has no attribute 'astype'"
     ]
    }
   ],
   "source": [
    "print('Accuracy at k = %d: %f' % (k,  np.mean((bagPredictions == BAG_TEST).astype(int))))"
   ]
  },
  {
   "cell_type": "markdown",
   "metadata": {},
   "source": [
    "## 3. Initializing using a Saved Graph\n",
    "\n",
    "Here we will construct a new computation graph, but will use a previously trained model to initialize it."
   ]
  },
  {
   "cell_type": "code",
   "execution_count": 11,
   "metadata": {
    "ExecuteTime": {
     "end_time": "2019-04-24T12:07:09.616748Z",
     "start_time": "2019-04-24T12:07:09.596906Z"
    }
   },
   "outputs": [],
   "source": [
    "# Making sure the old graph and sessions are closed\n",
    "sess = emiDriver.getCurrentSession()\n",
    "sess.close()\n",
    "tf.reset_default_graph()"
   ]
  },
  {
   "cell_type": "markdown",
   "metadata": {},
   "source": [
    "Use the `GraphManager` to load the saved graph and load it into a new session."
   ]
  },
  {
   "cell_type": "code",
   "execution_count": 13,
   "metadata": {
    "ExecuteTime": {
     "end_time": "2019-04-30T09:52:19.568739Z",
     "start_time": "2019-04-30T09:52:10.703663Z"
    }
   },
   "outputs": [
    {
     "name": "stdout",
     "output_type": "stream",
     "text": [
      "INFO:tensorflow:Restoring parameters from /home/adithyapa4444_gmail_com/CRIME_halfFPS_fastgrnn/model-fastgrnn-1037\n"
     ]
    }
   ],
   "source": [
    "tf.reset_default_graph()\n",
    "\n",
    "sess = tf.Session()\n",
    "graphManager = utils.GraphManager()\n",
    "graph = graphManager.loadCheckpoint(sess, MODEL_PREFIX, globalStep=1037)"
   ]
  },
  {
   "cell_type": "markdown",
   "metadata": {},
   "source": [
    "Construct the forward graph as before, but provide the loaded `graph` as an argument to `__init__`."
   ]
  },
  {
   "cell_type": "code",
   "execution_count": 14,
   "metadata": {
    "ExecuteTime": {
     "end_time": "2019-04-30T09:52:20.570380Z",
     "start_time": "2019-04-30T09:52:19.571022Z"
    }
   },
   "outputs": [
    {
     "name": "stdout",
     "output_type": "stream",
     "text": [
      "WARNING:tensorflow:Entity <bound method FastGRNNCell.call of <rnn.FastGRNNCell object at 0x7f063b499be0>> could not be transformed and will be executed as-is. Please report this to the AutgoGraph team. When filing the bug, set the verbosity to 10 (on Linux, `export AUTOGRAPH_VERBOSITY=10`) and attach the full output. Cause: converting <bound method FastGRNNCell.call of <rnn.FastGRNNCell object at 0x7f063b499be0>>: AttributeError: module 'gast' has no attribute 'Num'\n",
      "WARNING: Entity <bound method FastGRNNCell.call of <rnn.FastGRNNCell object at 0x7f063b499be0>> could not be transformed and will be executed as-is. Please report this to the AutgoGraph team. When filing the bug, set the verbosity to 10 (on Linux, `export AUTOGRAPH_VERBOSITY=10`) and attach the full output. Cause: converting <bound method FastGRNNCell.call of <rnn.FastGRNNCell object at 0x7f063b499be0>>: AttributeError: module 'gast' has no attribute 'Num'\n",
      "WARNING:tensorflow:Entity <bound method FastGRNNCell.call of <rnn.FastGRNNCell object at 0x7f063b499be0>> could not be transformed and will be executed as-is. Please report this to the AutgoGraph team. When filing the bug, set the verbosity to 10 (on Linux, `export AUTOGRAPH_VERBOSITY=10`) and attach the full output. Cause: converting <bound method FastGRNNCell.call of <rnn.FastGRNNCell object at 0x7f063b499be0>>: AttributeError: module 'gast' has no attribute 'Num'\n",
      "WARNING: Entity <bound method FastGRNNCell.call of <rnn.FastGRNNCell object at 0x7f063b499be0>> could not be transformed and will be executed as-is. Please report this to the AutgoGraph team. When filing the bug, set the verbosity to 10 (on Linux, `export AUTOGRAPH_VERBOSITY=10`) and attach the full output. Cause: converting <bound method FastGRNNCell.call of <rnn.FastGRNNCell object at 0x7f063b499be0>>: AttributeError: module 'gast' has no attribute 'Num'\n",
      "WARNING:tensorflow:Entity <bound method FastGRNNCell.call of <rnn.FastGRNNCell object at 0x7f063b499be0>> could not be transformed and will be executed as-is. Please report this to the AutgoGraph team. When filing the bug, set the verbosity to 10 (on Linux, `export AUTOGRAPH_VERBOSITY=10`) and attach the full output. Cause: converting <bound method FastGRNNCell.call of <rnn.FastGRNNCell object at 0x7f063b499be0>>: AttributeError: module 'gast' has no attribute 'Num'\n",
      "WARNING: Entity <bound method FastGRNNCell.call of <rnn.FastGRNNCell object at 0x7f063b499be0>> could not be transformed and will be executed as-is. Please report this to the AutgoGraph team. When filing the bug, set the verbosity to 10 (on Linux, `export AUTOGRAPH_VERBOSITY=10`) and attach the full output. Cause: converting <bound method FastGRNNCell.call of <rnn.FastGRNNCell object at 0x7f063b499be0>>: AttributeError: module 'gast' has no attribute 'Num'\n",
      "WARNING:tensorflow:Entity <bound method FastGRNNCell.call of <rnn.FastGRNNCell object at 0x7f063b499be0>> could not be transformed and will be executed as-is. Please report this to the AutgoGraph team. When filing the bug, set the verbosity to 10 (on Linux, `export AUTOGRAPH_VERBOSITY=10`) and attach the full output. Cause: converting <bound method FastGRNNCell.call of <rnn.FastGRNNCell object at 0x7f063b499be0>>: AttributeError: module 'gast' has no attribute 'Num'\n",
      "WARNING: Entity <bound method FastGRNNCell.call of <rnn.FastGRNNCell object at 0x7f063b499be0>> could not be transformed and will be executed as-is. Please report this to the AutgoGraph team. When filing the bug, set the verbosity to 10 (on Linux, `export AUTOGRAPH_VERBOSITY=10`) and attach the full output. Cause: converting <bound method FastGRNNCell.call of <rnn.FastGRNNCell object at 0x7f063b499be0>>: AttributeError: module 'gast' has no attribute 'Num'\n",
      "WARNING:tensorflow:Entity <bound method FastGRNNCell.call of <rnn.FastGRNNCell object at 0x7f063b499be0>> could not be transformed and will be executed as-is. Please report this to the AutgoGraph team. When filing the bug, set the verbosity to 10 (on Linux, `export AUTOGRAPH_VERBOSITY=10`) and attach the full output. Cause: converting <bound method FastGRNNCell.call of <rnn.FastGRNNCell object at 0x7f063b499be0>>: AttributeError: module 'gast' has no attribute 'Num'\n",
      "WARNING: Entity <bound method FastGRNNCell.call of <rnn.FastGRNNCell object at 0x7f063b499be0>> could not be transformed and will be executed as-is. Please report this to the AutgoGraph team. When filing the bug, set the verbosity to 10 (on Linux, `export AUTOGRAPH_VERBOSITY=10`) and attach the full output. Cause: converting <bound method FastGRNNCell.call of <rnn.FastGRNNCell object at 0x7f063b499be0>>: AttributeError: module 'gast' has no attribute 'Num'\n",
      "WARNING:tensorflow:Entity <bound method FastGRNNCell.call of <rnn.FastGRNNCell object at 0x7f063b499be0>> could not be transformed and will be executed as-is. Please report this to the AutgoGraph team. When filing the bug, set the verbosity to 10 (on Linux, `export AUTOGRAPH_VERBOSITY=10`) and attach the full output. Cause: converting <bound method FastGRNNCell.call of <rnn.FastGRNNCell object at 0x7f063b499be0>>: AttributeError: module 'gast' has no attribute 'Num'\n",
      "WARNING: Entity <bound method FastGRNNCell.call of <rnn.FastGRNNCell object at 0x7f063b499be0>> could not be transformed and will be executed as-is. Please report this to the AutgoGraph team. When filing the bug, set the verbosity to 10 (on Linux, `export AUTOGRAPH_VERBOSITY=10`) and attach the full output. Cause: converting <bound method FastGRNNCell.call of <rnn.FastGRNNCell object at 0x7f063b499be0>>: AttributeError: module 'gast' has no attribute 'Num'\n",
      "WARNING:tensorflow:Entity <bound method FastGRNNCell.call of <rnn.FastGRNNCell object at 0x7f063b499be0>> could not be transformed and will be executed as-is. Please report this to the AutgoGraph team. When filing the bug, set the verbosity to 10 (on Linux, `export AUTOGRAPH_VERBOSITY=10`) and attach the full output. Cause: converting <bound method FastGRNNCell.call of <rnn.FastGRNNCell object at 0x7f063b499be0>>: AttributeError: module 'gast' has no attribute 'Num'\n",
      "WARNING: Entity <bound method FastGRNNCell.call of <rnn.FastGRNNCell object at 0x7f063b499be0>> could not be transformed and will be executed as-is. Please report this to the AutgoGraph team. When filing the bug, set the verbosity to 10 (on Linux, `export AUTOGRAPH_VERBOSITY=10`) and attach the full output. Cause: converting <bound method FastGRNNCell.call of <rnn.FastGRNNCell object at 0x7f063b499be0>>: AttributeError: module 'gast' has no attribute 'Num'\n",
      "WARNING:tensorflow:Entity <bound method FastGRNNCell.call of <rnn.FastGRNNCell object at 0x7f063b499be0>> could not be transformed and will be executed as-is. Please report this to the AutgoGraph team. When filing the bug, set the verbosity to 10 (on Linux, `export AUTOGRAPH_VERBOSITY=10`) and attach the full output. Cause: converting <bound method FastGRNNCell.call of <rnn.FastGRNNCell object at 0x7f063b499be0>>: AttributeError: module 'gast' has no attribute 'Num'\n",
      "WARNING: Entity <bound method FastGRNNCell.call of <rnn.FastGRNNCell object at 0x7f063b499be0>> could not be transformed and will be executed as-is. Please report this to the AutgoGraph team. When filing the bug, set the verbosity to 10 (on Linux, `export AUTOGRAPH_VERBOSITY=10`) and attach the full output. Cause: converting <bound method FastGRNNCell.call of <rnn.FastGRNNCell object at 0x7f063b499be0>>: AttributeError: module 'gast' has no attribute 'Num'\n",
      "WARNING:tensorflow:Entity <bound method FastGRNNCell.call of <rnn.FastGRNNCell object at 0x7f063b499be0>> could not be transformed and will be executed as-is. Please report this to the AutgoGraph team. When filing the bug, set the verbosity to 10 (on Linux, `export AUTOGRAPH_VERBOSITY=10`) and attach the full output. Cause: converting <bound method FastGRNNCell.call of <rnn.FastGRNNCell object at 0x7f063b499be0>>: AttributeError: module 'gast' has no attribute 'Num'\n",
      "WARNING: Entity <bound method FastGRNNCell.call of <rnn.FastGRNNCell object at 0x7f063b499be0>> could not be transformed and will be executed as-is. Please report this to the AutgoGraph team. When filing the bug, set the verbosity to 10 (on Linux, `export AUTOGRAPH_VERBOSITY=10`) and attach the full output. Cause: converting <bound method FastGRNNCell.call of <rnn.FastGRNNCell object at 0x7f063b499be0>>: AttributeError: module 'gast' has no attribute 'Num'\n"
     ]
    },
    {
     "name": "stdout",
     "output_type": "stream",
     "text": [
      "WARNING:tensorflow:Entity <bound method FastGRNNCell.call of <rnn.FastGRNNCell object at 0x7f063b499be0>> could not be transformed and will be executed as-is. Please report this to the AutgoGraph team. When filing the bug, set the verbosity to 10 (on Linux, `export AUTOGRAPH_VERBOSITY=10`) and attach the full output. Cause: converting <bound method FastGRNNCell.call of <rnn.FastGRNNCell object at 0x7f063b499be0>>: AttributeError: module 'gast' has no attribute 'Num'\n",
      "WARNING: Entity <bound method FastGRNNCell.call of <rnn.FastGRNNCell object at 0x7f063b499be0>> could not be transformed and will be executed as-is. Please report this to the AutgoGraph team. When filing the bug, set the verbosity to 10 (on Linux, `export AUTOGRAPH_VERBOSITY=10`) and attach the full output. Cause: converting <bound method FastGRNNCell.call of <rnn.FastGRNNCell object at 0x7f063b499be0>>: AttributeError: module 'gast' has no attribute 'Num'\n",
      "WARNING:tensorflow:Entity <bound method FastGRNNCell.call of <rnn.FastGRNNCell object at 0x7f063b499be0>> could not be transformed and will be executed as-is. Please report this to the AutgoGraph team. When filing the bug, set the verbosity to 10 (on Linux, `export AUTOGRAPH_VERBOSITY=10`) and attach the full output. Cause: converting <bound method FastGRNNCell.call of <rnn.FastGRNNCell object at 0x7f063b499be0>>: AttributeError: module 'gast' has no attribute 'Num'\n",
      "WARNING: Entity <bound method FastGRNNCell.call of <rnn.FastGRNNCell object at 0x7f063b499be0>> could not be transformed and will be executed as-is. Please report this to the AutgoGraph team. When filing the bug, set the verbosity to 10 (on Linux, `export AUTOGRAPH_VERBOSITY=10`) and attach the full output. Cause: converting <bound method FastGRNNCell.call of <rnn.FastGRNNCell object at 0x7f063b499be0>>: AttributeError: module 'gast' has no attribute 'Num'\n",
      "WARNING:tensorflow:Entity <bound method FastGRNNCell.call of <rnn.FastGRNNCell object at 0x7f063b499be0>> could not be transformed and will be executed as-is. Please report this to the AutgoGraph team. When filing the bug, set the verbosity to 10 (on Linux, `export AUTOGRAPH_VERBOSITY=10`) and attach the full output. Cause: converting <bound method FastGRNNCell.call of <rnn.FastGRNNCell object at 0x7f063b499be0>>: AttributeError: module 'gast' has no attribute 'Num'\n",
      "WARNING: Entity <bound method FastGRNNCell.call of <rnn.FastGRNNCell object at 0x7f063b499be0>> could not be transformed and will be executed as-is. Please report this to the AutgoGraph team. When filing the bug, set the verbosity to 10 (on Linux, `export AUTOGRAPH_VERBOSITY=10`) and attach the full output. Cause: converting <bound method FastGRNNCell.call of <rnn.FastGRNNCell object at 0x7f063b499be0>>: AttributeError: module 'gast' has no attribute 'Num'\n",
      "WARNING:tensorflow:Entity <bound method FastGRNNCell.call of <rnn.FastGRNNCell object at 0x7f063b499be0>> could not be transformed and will be executed as-is. Please report this to the AutgoGraph team. When filing the bug, set the verbosity to 10 (on Linux, `export AUTOGRAPH_VERBOSITY=10`) and attach the full output. Cause: converting <bound method FastGRNNCell.call of <rnn.FastGRNNCell object at 0x7f063b499be0>>: AttributeError: module 'gast' has no attribute 'Num'\n",
      "WARNING: Entity <bound method FastGRNNCell.call of <rnn.FastGRNNCell object at 0x7f063b499be0>> could not be transformed and will be executed as-is. Please report this to the AutgoGraph team. When filing the bug, set the verbosity to 10 (on Linux, `export AUTOGRAPH_VERBOSITY=10`) and attach the full output. Cause: converting <bound method FastGRNNCell.call of <rnn.FastGRNNCell object at 0x7f063b499be0>>: AttributeError: module 'gast' has no attribute 'Num'\n",
      "WARNING:tensorflow:Entity <bound method FastGRNNCell.call of <rnn.FastGRNNCell object at 0x7f063b499be0>> could not be transformed and will be executed as-is. Please report this to the AutgoGraph team. When filing the bug, set the verbosity to 10 (on Linux, `export AUTOGRAPH_VERBOSITY=10`) and attach the full output. Cause: converting <bound method FastGRNNCell.call of <rnn.FastGRNNCell object at 0x7f063b499be0>>: AttributeError: module 'gast' has no attribute 'Num'\n",
      "WARNING: Entity <bound method FastGRNNCell.call of <rnn.FastGRNNCell object at 0x7f063b499be0>> could not be transformed and will be executed as-is. Please report this to the AutgoGraph team. When filing the bug, set the verbosity to 10 (on Linux, `export AUTOGRAPH_VERBOSITY=10`) and attach the full output. Cause: converting <bound method FastGRNNCell.call of <rnn.FastGRNNCell object at 0x7f063b499be0>>: AttributeError: module 'gast' has no attribute 'Num'\n",
      "WARNING:tensorflow:Entity <bound method FastGRNNCell.call of <rnn.FastGRNNCell object at 0x7f063b499be0>> could not be transformed and will be executed as-is. Please report this to the AutgoGraph team. When filing the bug, set the verbosity to 10 (on Linux, `export AUTOGRAPH_VERBOSITY=10`) and attach the full output. Cause: converting <bound method FastGRNNCell.call of <rnn.FastGRNNCell object at 0x7f063b499be0>>: AttributeError: module 'gast' has no attribute 'Num'\n",
      "WARNING: Entity <bound method FastGRNNCell.call of <rnn.FastGRNNCell object at 0x7f063b499be0>> could not be transformed and will be executed as-is. Please report this to the AutgoGraph team. When filing the bug, set the verbosity to 10 (on Linux, `export AUTOGRAPH_VERBOSITY=10`) and attach the full output. Cause: converting <bound method FastGRNNCell.call of <rnn.FastGRNNCell object at 0x7f063b499be0>>: AttributeError: module 'gast' has no attribute 'Num'\n",
      "WARNING:tensorflow:Entity <bound method FastGRNNCell.call of <rnn.FastGRNNCell object at 0x7f063b499be0>> could not be transformed and will be executed as-is. Please report this to the AutgoGraph team. When filing the bug, set the verbosity to 10 (on Linux, `export AUTOGRAPH_VERBOSITY=10`) and attach the full output. Cause: converting <bound method FastGRNNCell.call of <rnn.FastGRNNCell object at 0x7f063b499be0>>: AttributeError: module 'gast' has no attribute 'Num'\n",
      "WARNING: Entity <bound method FastGRNNCell.call of <rnn.FastGRNNCell object at 0x7f063b499be0>> could not be transformed and will be executed as-is. Please report this to the AutgoGraph team. When filing the bug, set the verbosity to 10 (on Linux, `export AUTOGRAPH_VERBOSITY=10`) and attach the full output. Cause: converting <bound method FastGRNNCell.call of <rnn.FastGRNNCell object at 0x7f063b499be0>>: AttributeError: module 'gast' has no attribute 'Num'\n",
      "WARNING:tensorflow:Entity <bound method FastGRNNCell.call of <rnn.FastGRNNCell object at 0x7f063b499be0>> could not be transformed and will be executed as-is. Please report this to the AutgoGraph team. When filing the bug, set the verbosity to 10 (on Linux, `export AUTOGRAPH_VERBOSITY=10`) and attach the full output. Cause: converting <bound method FastGRNNCell.call of <rnn.FastGRNNCell object at 0x7f063b499be0>>: AttributeError: module 'gast' has no attribute 'Num'\n",
      "WARNING: Entity <bound method FastGRNNCell.call of <rnn.FastGRNNCell object at 0x7f063b499be0>> could not be transformed and will be executed as-is. Please report this to the AutgoGraph team. When filing the bug, set the verbosity to 10 (on Linux, `export AUTOGRAPH_VERBOSITY=10`) and attach the full output. Cause: converting <bound method FastGRNNCell.call of <rnn.FastGRNNCell object at 0x7f063b499be0>>: AttributeError: module 'gast' has no attribute 'Num'\n",
      "WARNING:tensorflow:Entity <bound method FastGRNNCell.call of <rnn.FastGRNNCell object at 0x7f063b499be0>> could not be transformed and will be executed as-is. Please report this to the AutgoGraph team. When filing the bug, set the verbosity to 10 (on Linux, `export AUTOGRAPH_VERBOSITY=10`) and attach the full output. Cause: converting <bound method FastGRNNCell.call of <rnn.FastGRNNCell object at 0x7f063b499be0>>: AttributeError: module 'gast' has no attribute 'Num'\n",
      "WARNING: Entity <bound method FastGRNNCell.call of <rnn.FastGRNNCell object at 0x7f063b499be0>> could not be transformed and will be executed as-is. Please report this to the AutgoGraph team. When filing the bug, set the verbosity to 10 (on Linux, `export AUTOGRAPH_VERBOSITY=10`) and attach the full output. Cause: converting <bound method FastGRNNCell.call of <rnn.FastGRNNCell object at 0x7f063b499be0>>: AttributeError: module 'gast' has no attribute 'Num'\n"
     ]
    },
    {
     "name": "stdout",
     "output_type": "stream",
     "text": [
      "WARNING:tensorflow:Entity <bound method FastGRNNCell.call of <rnn.FastGRNNCell object at 0x7f063b499be0>> could not be transformed and will be executed as-is. Please report this to the AutgoGraph team. When filing the bug, set the verbosity to 10 (on Linux, `export AUTOGRAPH_VERBOSITY=10`) and attach the full output. Cause: converting <bound method FastGRNNCell.call of <rnn.FastGRNNCell object at 0x7f063b499be0>>: AttributeError: module 'gast' has no attribute 'Num'\n",
      "WARNING: Entity <bound method FastGRNNCell.call of <rnn.FastGRNNCell object at 0x7f063b499be0>> could not be transformed and will be executed as-is. Please report this to the AutgoGraph team. When filing the bug, set the verbosity to 10 (on Linux, `export AUTOGRAPH_VERBOSITY=10`) and attach the full output. Cause: converting <bound method FastGRNNCell.call of <rnn.FastGRNNCell object at 0x7f063b499be0>>: AttributeError: module 'gast' has no attribute 'Num'\n",
      "WARNING:tensorflow:Entity <bound method FastGRNNCell.call of <rnn.FastGRNNCell object at 0x7f063b499be0>> could not be transformed and will be executed as-is. Please report this to the AutgoGraph team. When filing the bug, set the verbosity to 10 (on Linux, `export AUTOGRAPH_VERBOSITY=10`) and attach the full output. Cause: converting <bound method FastGRNNCell.call of <rnn.FastGRNNCell object at 0x7f063b499be0>>: AttributeError: module 'gast' has no attribute 'Num'\n",
      "WARNING: Entity <bound method FastGRNNCell.call of <rnn.FastGRNNCell object at 0x7f063b499be0>> could not be transformed and will be executed as-is. Please report this to the AutgoGraph team. When filing the bug, set the verbosity to 10 (on Linux, `export AUTOGRAPH_VERBOSITY=10`) and attach the full output. Cause: converting <bound method FastGRNNCell.call of <rnn.FastGRNNCell object at 0x7f063b499be0>>: AttributeError: module 'gast' has no attribute 'Num'\n",
      "WARNING:tensorflow:Entity <bound method FastGRNNCell.call of <rnn.FastGRNNCell object at 0x7f063b499be0>> could not be transformed and will be executed as-is. Please report this to the AutgoGraph team. When filing the bug, set the verbosity to 10 (on Linux, `export AUTOGRAPH_VERBOSITY=10`) and attach the full output. Cause: converting <bound method FastGRNNCell.call of <rnn.FastGRNNCell object at 0x7f063b499be0>>: AttributeError: module 'gast' has no attribute 'Num'\n",
      "WARNING: Entity <bound method FastGRNNCell.call of <rnn.FastGRNNCell object at 0x7f063b499be0>> could not be transformed and will be executed as-is. Please report this to the AutgoGraph team. When filing the bug, set the verbosity to 10 (on Linux, `export AUTOGRAPH_VERBOSITY=10`) and attach the full output. Cause: converting <bound method FastGRNNCell.call of <rnn.FastGRNNCell object at 0x7f063b499be0>>: AttributeError: module 'gast' has no attribute 'Num'\n",
      "WARNING:tensorflow:Entity <bound method FastGRNNCell.call of <rnn.FastGRNNCell object at 0x7f063b499be0>> could not be transformed and will be executed as-is. Please report this to the AutgoGraph team. When filing the bug, set the verbosity to 10 (on Linux, `export AUTOGRAPH_VERBOSITY=10`) and attach the full output. Cause: converting <bound method FastGRNNCell.call of <rnn.FastGRNNCell object at 0x7f063b499be0>>: AttributeError: module 'gast' has no attribute 'Num'\n",
      "WARNING: Entity <bound method FastGRNNCell.call of <rnn.FastGRNNCell object at 0x7f063b499be0>> could not be transformed and will be executed as-is. Please report this to the AutgoGraph team. When filing the bug, set the verbosity to 10 (on Linux, `export AUTOGRAPH_VERBOSITY=10`) and attach the full output. Cause: converting <bound method FastGRNNCell.call of <rnn.FastGRNNCell object at 0x7f063b499be0>>: AttributeError: module 'gast' has no attribute 'Num'\n",
      "WARNING:tensorflow:Entity <bound method FastGRNNCell.call of <rnn.FastGRNNCell object at 0x7f063b499be0>> could not be transformed and will be executed as-is. Please report this to the AutgoGraph team. When filing the bug, set the verbosity to 10 (on Linux, `export AUTOGRAPH_VERBOSITY=10`) and attach the full output. Cause: converting <bound method FastGRNNCell.call of <rnn.FastGRNNCell object at 0x7f063b499be0>>: AttributeError: module 'gast' has no attribute 'Num'\n",
      "WARNING: Entity <bound method FastGRNNCell.call of <rnn.FastGRNNCell object at 0x7f063b499be0>> could not be transformed and will be executed as-is. Please report this to the AutgoGraph team. When filing the bug, set the verbosity to 10 (on Linux, `export AUTOGRAPH_VERBOSITY=10`) and attach the full output. Cause: converting <bound method FastGRNNCell.call of <rnn.FastGRNNCell object at 0x7f063b499be0>>: AttributeError: module 'gast' has no attribute 'Num'\n",
      "WARNING:tensorflow:Entity <bound method FastGRNNCell.call of <rnn.FastGRNNCell object at 0x7f063b499be0>> could not be transformed and will be executed as-is. Please report this to the AutgoGraph team. When filing the bug, set the verbosity to 10 (on Linux, `export AUTOGRAPH_VERBOSITY=10`) and attach the full output. Cause: converting <bound method FastGRNNCell.call of <rnn.FastGRNNCell object at 0x7f063b499be0>>: AttributeError: module 'gast' has no attribute 'Num'\n",
      "WARNING: Entity <bound method FastGRNNCell.call of <rnn.FastGRNNCell object at 0x7f063b499be0>> could not be transformed and will be executed as-is. Please report this to the AutgoGraph team. When filing the bug, set the verbosity to 10 (on Linux, `export AUTOGRAPH_VERBOSITY=10`) and attach the full output. Cause: converting <bound method FastGRNNCell.call of <rnn.FastGRNNCell object at 0x7f063b499be0>>: AttributeError: module 'gast' has no attribute 'Num'\n",
      "WARNING:tensorflow:Entity <bound method FastGRNNCell.call of <rnn.FastGRNNCell object at 0x7f063b499be0>> could not be transformed and will be executed as-is. Please report this to the AutgoGraph team. When filing the bug, set the verbosity to 10 (on Linux, `export AUTOGRAPH_VERBOSITY=10`) and attach the full output. Cause: converting <bound method FastGRNNCell.call of <rnn.FastGRNNCell object at 0x7f063b499be0>>: AttributeError: module 'gast' has no attribute 'Num'\n",
      "WARNING: Entity <bound method FastGRNNCell.call of <rnn.FastGRNNCell object at 0x7f063b499be0>> could not be transformed and will be executed as-is. Please report this to the AutgoGraph team. When filing the bug, set the verbosity to 10 (on Linux, `export AUTOGRAPH_VERBOSITY=10`) and attach the full output. Cause: converting <bound method FastGRNNCell.call of <rnn.FastGRNNCell object at 0x7f063b499be0>>: AttributeError: module 'gast' has no attribute 'Num'\n",
      "WARNING:tensorflow:Entity <bound method FastGRNNCell.call of <rnn.FastGRNNCell object at 0x7f063b499be0>> could not be transformed and will be executed as-is. Please report this to the AutgoGraph team. When filing the bug, set the verbosity to 10 (on Linux, `export AUTOGRAPH_VERBOSITY=10`) and attach the full output. Cause: converting <bound method FastGRNNCell.call of <rnn.FastGRNNCell object at 0x7f063b499be0>>: AttributeError: module 'gast' has no attribute 'Num'\n",
      "WARNING: Entity <bound method FastGRNNCell.call of <rnn.FastGRNNCell object at 0x7f063b499be0>> could not be transformed and will be executed as-is. Please report this to the AutgoGraph team. When filing the bug, set the verbosity to 10 (on Linux, `export AUTOGRAPH_VERBOSITY=10`) and attach the full output. Cause: converting <bound method FastGRNNCell.call of <rnn.FastGRNNCell object at 0x7f063b499be0>>: AttributeError: module 'gast' has no attribute 'Num'\n",
      "WARNING:tensorflow:Entity <bound method FastGRNNCell.call of <rnn.FastGRNNCell object at 0x7f063b499be0>> could not be transformed and will be executed as-is. Please report this to the AutgoGraph team. When filing the bug, set the verbosity to 10 (on Linux, `export AUTOGRAPH_VERBOSITY=10`) and attach the full output. Cause: converting <bound method FastGRNNCell.call of <rnn.FastGRNNCell object at 0x7f063b499be0>>: AttributeError: module 'gast' has no attribute 'Num'\n",
      "WARNING: Entity <bound method FastGRNNCell.call of <rnn.FastGRNNCell object at 0x7f063b499be0>> could not be transformed and will be executed as-is. Please report this to the AutgoGraph team. When filing the bug, set the verbosity to 10 (on Linux, `export AUTOGRAPH_VERBOSITY=10`) and attach the full output. Cause: converting <bound method FastGRNNCell.call of <rnn.FastGRNNCell object at 0x7f063b499be0>>: AttributeError: module 'gast' has no attribute 'Num'\n"
     ]
    },
    {
     "name": "stdout",
     "output_type": "stream",
     "text": [
      "WARNING:tensorflow:Entity <bound method FastGRNNCell.call of <rnn.FastGRNNCell object at 0x7f063b499be0>> could not be transformed and will be executed as-is. Please report this to the AutgoGraph team. When filing the bug, set the verbosity to 10 (on Linux, `export AUTOGRAPH_VERBOSITY=10`) and attach the full output. Cause: converting <bound method FastGRNNCell.call of <rnn.FastGRNNCell object at 0x7f063b499be0>>: AttributeError: module 'gast' has no attribute 'Num'\n",
      "WARNING: Entity <bound method FastGRNNCell.call of <rnn.FastGRNNCell object at 0x7f063b499be0>> could not be transformed and will be executed as-is. Please report this to the AutgoGraph team. When filing the bug, set the verbosity to 10 (on Linux, `export AUTOGRAPH_VERBOSITY=10`) and attach the full output. Cause: converting <bound method FastGRNNCell.call of <rnn.FastGRNNCell object at 0x7f063b499be0>>: AttributeError: module 'gast' has no attribute 'Num'\n",
      "WARNING:tensorflow:Entity <bound method FastGRNNCell.call of <rnn.FastGRNNCell object at 0x7f063b499be0>> could not be transformed and will be executed as-is. Please report this to the AutgoGraph team. When filing the bug, set the verbosity to 10 (on Linux, `export AUTOGRAPH_VERBOSITY=10`) and attach the full output. Cause: converting <bound method FastGRNNCell.call of <rnn.FastGRNNCell object at 0x7f063b499be0>>: AttributeError: module 'gast' has no attribute 'Num'\n",
      "WARNING: Entity <bound method FastGRNNCell.call of <rnn.FastGRNNCell object at 0x7f063b499be0>> could not be transformed and will be executed as-is. Please report this to the AutgoGraph team. When filing the bug, set the verbosity to 10 (on Linux, `export AUTOGRAPH_VERBOSITY=10`) and attach the full output. Cause: converting <bound method FastGRNNCell.call of <rnn.FastGRNNCell object at 0x7f063b499be0>>: AttributeError: module 'gast' has no attribute 'Num'\n",
      "WARNING:tensorflow:Entity <bound method FastGRNNCell.call of <rnn.FastGRNNCell object at 0x7f063b499be0>> could not be transformed and will be executed as-is. Please report this to the AutgoGraph team. When filing the bug, set the verbosity to 10 (on Linux, `export AUTOGRAPH_VERBOSITY=10`) and attach the full output. Cause: converting <bound method FastGRNNCell.call of <rnn.FastGRNNCell object at 0x7f063b499be0>>: AttributeError: module 'gast' has no attribute 'Num'\n",
      "WARNING: Entity <bound method FastGRNNCell.call of <rnn.FastGRNNCell object at 0x7f063b499be0>> could not be transformed and will be executed as-is. Please report this to the AutgoGraph team. When filing the bug, set the verbosity to 10 (on Linux, `export AUTOGRAPH_VERBOSITY=10`) and attach the full output. Cause: converting <bound method FastGRNNCell.call of <rnn.FastGRNNCell object at 0x7f063b499be0>>: AttributeError: module 'gast' has no attribute 'Num'\n",
      "WARNING:tensorflow:Entity <bound method FastGRNNCell.call of <rnn.FastGRNNCell object at 0x7f063b499be0>> could not be transformed and will be executed as-is. Please report this to the AutgoGraph team. When filing the bug, set the verbosity to 10 (on Linux, `export AUTOGRAPH_VERBOSITY=10`) and attach the full output. Cause: converting <bound method FastGRNNCell.call of <rnn.FastGRNNCell object at 0x7f063b499be0>>: AttributeError: module 'gast' has no attribute 'Num'\n",
      "WARNING: Entity <bound method FastGRNNCell.call of <rnn.FastGRNNCell object at 0x7f063b499be0>> could not be transformed and will be executed as-is. Please report this to the AutgoGraph team. When filing the bug, set the verbosity to 10 (on Linux, `export AUTOGRAPH_VERBOSITY=10`) and attach the full output. Cause: converting <bound method FastGRNNCell.call of <rnn.FastGRNNCell object at 0x7f063b499be0>>: AttributeError: module 'gast' has no attribute 'Num'\n",
      "WARNING:tensorflow:Entity <bound method FastGRNNCell.call of <rnn.FastGRNNCell object at 0x7f063b499be0>> could not be transformed and will be executed as-is. Please report this to the AutgoGraph team. When filing the bug, set the verbosity to 10 (on Linux, `export AUTOGRAPH_VERBOSITY=10`) and attach the full output. Cause: converting <bound method FastGRNNCell.call of <rnn.FastGRNNCell object at 0x7f063b499be0>>: AttributeError: module 'gast' has no attribute 'Num'\n",
      "WARNING: Entity <bound method FastGRNNCell.call of <rnn.FastGRNNCell object at 0x7f063b499be0>> could not be transformed and will be executed as-is. Please report this to the AutgoGraph team. When filing the bug, set the verbosity to 10 (on Linux, `export AUTOGRAPH_VERBOSITY=10`) and attach the full output. Cause: converting <bound method FastGRNNCell.call of <rnn.FastGRNNCell object at 0x7f063b499be0>>: AttributeError: module 'gast' has no attribute 'Num'\n"
     ]
    }
   ],
   "source": [
    "inputPipeline = EMI_DataPipeline(NUM_SUBINSTANCE, NUM_TIMESTEPS, NUM_FEATS, NUM_OUTPUT, graph=graph)\n",
    "emiLSTM = EMI_FastGRNN(NUM_SUBINSTANCE, NUM_HIDDEN, NUM_TIMESTEPS, NUM_FEATS, wRank=WRANK, uRank=URANK, \n",
    "                               gate_non_linearity=GATE_NL, update_non_linearity=UPDATE_NL, useDropout=USE_DROPOUT)\n",
    "emiTrainer = EMI_Trainer(NUM_TIMESTEPS, NUM_OUTPUT, lossType='xentropy', graph=graph)\n",
    "\n",
    "g1 = graph\n",
    "with g1.as_default():\n",
    "    x_batch, y_batch = inputPipeline()\n",
    "    y_cap = emiLSTM(x_batch)\n",
    "    emiTrainer(y_cap, y_batch)\n",
    "    \n",
    "with g1.as_default():\n",
    "    emiDriver = EMI_Driver(inputPipeline, emiLSTM, emiTrainer)"
   ]
  },
  {
   "cell_type": "markdown",
   "metadata": {},
   "source": [
    "Let `EMI_Driver` know that we already have a session in place."
   ]
  },
  {
   "cell_type": "code",
   "execution_count": 15,
   "metadata": {
    "ExecuteTime": {
     "end_time": "2019-04-30T09:52:20.574716Z",
     "start_time": "2019-04-30T09:52:20.572193Z"
    }
   },
   "outputs": [],
   "source": [
    "emiDriver.setSession(sess)"
   ]
  },
  {
   "cell_type": "code",
   "execution_count": 16,
   "metadata": {
    "ExecuteTime": {
     "end_time": "2019-04-30T09:52:34.913965Z",
     "start_time": "2019-04-30T09:52:32.795936Z"
    }
   },
   "outputs": [
    {
     "name": "stdout",
     "output_type": "stream",
     "text": [
      "Accuracy at k = 2: 0.848464\n",
      "CPU times: user 3.51 s, sys: 1.54 s, total: 5.04 s\n",
      "Wall time: 3.55 s\n"
     ]
    }
   ],
   "source": [
    "%%time\n",
    "\n",
    "# tf.reset_default_graph()\n",
    "# emiDriver.initializeSession(g1)\n",
    "# emiDriver.loadSavedGraphToNewSession(MODEL_PREFIX, 1007)\n",
    "k = 2\n",
    "predictions, predictionStep = emiDriver.getInstancePredictions(x_test, y_test, earlyPolicy_minProb,\n",
    "                                                            minProb=0.99, keep_prob=1.0)\n",
    "bagPredictions = emiDriver.getBagPredictions(predictions, minSubsequenceLen=k, numClass=NUM_OUTPUT)\n",
    "print('Accuracy at k = %d: %f' % (k,  np.mean((bagPredictions == BAG_TEST).astype(int))))\n"
   ]
  },
  {
   "cell_type": "code",
   "execution_count": 18,
   "metadata": {},
   "outputs": [],
   "source": [
    "import time\n",
    "from sklearn.metrics import classification_report, confusion_matrix\n",
    "for _ in range(3):\n",
    "    start = time.time()\n",
    "    predictions, predictionStep = emiDriver.getInstancePredictions(x_test, y_test, earlyPolicy_minProb,\n",
    "                                                                minProb=0.99, keep_prob=1.0)\n",
    "    bagPredictions = emiDriver.getBagPredictions(predictions, minSubsequenceLen=k, numClass=NUM_OUTPUT)\n",
    "\n",
    "    end = time.time()\n",
    "y_test_bag = np.argmax(y_test[:, 0, :], axis=1)\n",
    "metrics_dict = {'time_run': end - start,\n",
    "                'y_pred': bagPredictions,\n",
    "                'y_test': y_test_bag,\n",
    "                'classification_report': classification_report(bagPredictions, y_test_bag),\n",
    "                'confusion_matrix': confusion_matrix(bagPredictions, y_test_bag)}\n"
   ]
  },
  {
   "cell_type": "code",
   "execution_count": 21,
   "metadata": {},
   "outputs": [
    {
     "name": "stdout",
     "output_type": "stream",
     "text": [
      "\n",
      "\n",
      "time_run\n",
      "1.5736732482910156\n",
      "----------------------------\n",
      "\n",
      "\n",
      "y_pred\n",
      "[5 5 1 ... 5 5 2]\n",
      "----------------------------\n",
      "\n",
      "\n",
      "y_test\n",
      "[6 5 1 ... 5 5 2]\n",
      "----------------------------\n",
      "\n",
      "\n",
      "classification_report\n",
      "              precision    recall  f1-score   support\n",
      "\n",
      "           0       0.60      0.59      0.60        93\n",
      "           1       0.73      0.81      0.77       172\n",
      "           2       0.28      0.46      0.35        24\n",
      "           3       0.36      0.33      0.35        12\n",
      "           4       0.53      0.70      0.61        33\n",
      "           5       0.97      0.91      0.94      1062\n",
      "           6       0.47      0.66      0.55        32\n",
      "           7       0.52      0.76      0.62        37\n",
      "\n",
      "    accuracy                           0.85      1465\n",
      "   macro avg       0.56      0.65      0.60      1465\n",
      "weighted avg       0.87      0.85      0.86      1465\n",
      "\n",
      "----------------------------\n",
      "\n",
      "\n",
      "confusion_matrix\n",
      "[[ 55   6   3   2   6   6   7   8]\n",
      " [  4 139   4   2   3  10   5   5]\n",
      " [  2   4  11   0   4   3   0   0]\n",
      " [  2   1   1   4   0   2   1   1]\n",
      " [  1   3   2   0  23   2   0   2]\n",
      " [ 22  34  15   3   6 962  10  10]\n",
      " [  2   2   2   0   1   4  21   0]\n",
      " [  3   2   1   0   0   2   1  28]]\n",
      "----------------------------\n"
     ]
    }
   ],
   "source": [
    "for metric in metrics_dict:\n",
    "    print('\\n')\n",
    "    print(metric)\n",
    "    print(metrics_dict[metric])\n",
    "    print('----------------------------')"
   ]
  },
  {
   "cell_type": "code",
   "execution_count": 22,
   "metadata": {},
   "outputs": [
    {
     "data": {
      "text/plain": [
       "0.0010741796916662223"
      ]
     },
     "execution_count": 22,
     "metadata": {},
     "output_type": "execute_result"
    }
   ],
   "source": [
    "1.5736732482910156 / 1465"
   ]
  },
  {
   "cell_type": "code",
   "execution_count": 10,
   "metadata": {
    "ExecuteTime": {
     "end_time": "2019-04-30T09:52:42.334950Z",
     "start_time": "2019-04-30T09:52:42.318103Z"
    }
   },
   "outputs": [
    {
     "data": {
      "text/plain": [
       "((2947, 6, 48, 9), (2947,), (2947, 6, 6))"
      ]
     },
     "execution_count": 10,
     "metadata": {},
     "output_type": "execute_result"
    }
   ],
   "source": [
    "x_test.shape, bagPredictions.shape,y_test.shape"
   ]
  },
  {
   "cell_type": "markdown",
   "metadata": {},
   "source": [
    "## 4. Restoring from Numpy Matrices\n",
    "\n",
    "We first extract the model matrices from the graph and dump it into `.npy` files. Then we load it back again and initialize a new graph with these matrices."
   ]
  },
  {
   "cell_type": "code",
   "execution_count": 27,
   "metadata": {
    "ExecuteTime": {
     "end_time": "2018-08-19T11:48:44.379901Z",
     "start_time": "2018-08-19T11:48:44.326706Z"
    }
   },
   "outputs": [
    {
     "ename": "FailedPreconditionError",
     "evalue": "Attempting to use uninitialized value rnn/fast_grnn_cell/EMI-FastGRNN-Cell/FastGRNNcell/B_g_1\n\t [[Node: _retval_rnn/fast_grnn_cell/EMI-FastGRNN-Cell/FastGRNNcell/B_g_1_0_2 = _Retval[T=DT_FLOAT, index=2, _device=\"/job:localhost/replica:0/task:0/device:CPU:0\"](rnn/fast_grnn_cell/EMI-FastGRNN-Cell/FastGRNNcell/B_g_1)]]",
     "output_type": "error",
     "traceback": [
      "\u001b[0;31m---------------------------------------------------------------------------\u001b[0m",
      "\u001b[0;31mFailedPreconditionError\u001b[0m                   Traceback (most recent call last)",
      "\u001b[0;32m~/iot/lib/python3.6/site-packages/tensorflow/python/client/session.py\u001b[0m in \u001b[0;36m_do_call\u001b[0;34m(self, fn, *args)\u001b[0m\n\u001b[1;32m   1277\u001b[0m     \u001b[0;32mtry\u001b[0m\u001b[0;34m:\u001b[0m\u001b[0;34m\u001b[0m\u001b[0;34m\u001b[0m\u001b[0m\n\u001b[0;32m-> 1278\u001b[0;31m       \u001b[0;32mreturn\u001b[0m \u001b[0mfn\u001b[0m\u001b[0;34m(\u001b[0m\u001b[0;34m*\u001b[0m\u001b[0margs\u001b[0m\u001b[0;34m)\u001b[0m\u001b[0;34m\u001b[0m\u001b[0;34m\u001b[0m\u001b[0m\n\u001b[0m\u001b[1;32m   1279\u001b[0m     \u001b[0;32mexcept\u001b[0m \u001b[0merrors\u001b[0m\u001b[0;34m.\u001b[0m\u001b[0mOpError\u001b[0m \u001b[0;32mas\u001b[0m \u001b[0me\u001b[0m\u001b[0;34m:\u001b[0m\u001b[0;34m\u001b[0m\u001b[0;34m\u001b[0m\u001b[0m\n",
      "\u001b[0;32m~/iot/lib/python3.6/site-packages/tensorflow/python/client/session.py\u001b[0m in \u001b[0;36m_run_fn\u001b[0;34m(feed_dict, fetch_list, target_list, options, run_metadata)\u001b[0m\n\u001b[1;32m   1262\u001b[0m       return self._call_tf_sessionrun(\n\u001b[0;32m-> 1263\u001b[0;31m           options, feed_dict, fetch_list, target_list, run_metadata)\n\u001b[0m\u001b[1;32m   1264\u001b[0m \u001b[0;34m\u001b[0m\u001b[0m\n",
      "\u001b[0;32m~/iot/lib/python3.6/site-packages/tensorflow/python/client/session.py\u001b[0m in \u001b[0;36m_call_tf_sessionrun\u001b[0;34m(self, options, feed_dict, fetch_list, target_list, run_metadata)\u001b[0m\n\u001b[1;32m   1349\u001b[0m         \u001b[0mself\u001b[0m\u001b[0;34m.\u001b[0m\u001b[0m_session\u001b[0m\u001b[0;34m,\u001b[0m \u001b[0moptions\u001b[0m\u001b[0;34m,\u001b[0m \u001b[0mfeed_dict\u001b[0m\u001b[0;34m,\u001b[0m \u001b[0mfetch_list\u001b[0m\u001b[0;34m,\u001b[0m \u001b[0mtarget_list\u001b[0m\u001b[0;34m,\u001b[0m\u001b[0;34m\u001b[0m\u001b[0;34m\u001b[0m\u001b[0m\n\u001b[0;32m-> 1350\u001b[0;31m         run_metadata)\n\u001b[0m\u001b[1;32m   1351\u001b[0m \u001b[0;34m\u001b[0m\u001b[0m\n",
      "\u001b[0;31mFailedPreconditionError\u001b[0m: Attempting to use uninitialized value rnn/fast_grnn_cell/EMI-FastGRNN-Cell/FastGRNNcell/B_g_1\n\t [[Node: _retval_rnn/fast_grnn_cell/EMI-FastGRNN-Cell/FastGRNNcell/B_g_1_0_2 = _Retval[T=DT_FLOAT, index=2, _device=\"/job:localhost/replica:0/task:0/device:CPU:0\"](rnn/fast_grnn_cell/EMI-FastGRNN-Cell/FastGRNNcell/B_g_1)]]",
      "\nDuring handling of the above exception, another exception occurred:\n",
      "\u001b[0;31mFailedPreconditionError\u001b[0m                   Traceback (most recent call last)",
      "\u001b[0;32m<ipython-input-27-ab82666e8ab2>\u001b[0m in \u001b[0;36m<module>\u001b[0;34m\u001b[0m\n\u001b[1;32m      4\u001b[0m \u001b[0mallVars\u001b[0m \u001b[0;34m=\u001b[0m \u001b[0memiLSTM\u001b[0m\u001b[0;34m.\u001b[0m\u001b[0mvarList\u001b[0m \u001b[0;34m+\u001b[0m \u001b[0;34m[\u001b[0m\u001b[0mW1\u001b[0m\u001b[0;34m,\u001b[0m \u001b[0mB1\u001b[0m\u001b[0;34m]\u001b[0m\u001b[0;34m\u001b[0m\u001b[0;34m\u001b[0m\u001b[0m\n\u001b[1;32m      5\u001b[0m \u001b[0msess\u001b[0m \u001b[0;34m=\u001b[0m \u001b[0memiDriver\u001b[0m\u001b[0;34m.\u001b[0m\u001b[0mgetCurrentSession\u001b[0m\u001b[0;34m(\u001b[0m\u001b[0;34m)\u001b[0m\u001b[0;34m\u001b[0m\u001b[0;34m\u001b[0m\u001b[0m\n\u001b[0;32m----> 6\u001b[0;31m \u001b[0mallVars\u001b[0m \u001b[0;34m=\u001b[0m \u001b[0msess\u001b[0m\u001b[0;34m.\u001b[0m\u001b[0mrun\u001b[0m\u001b[0;34m(\u001b[0m\u001b[0mallVars\u001b[0m\u001b[0;34m)\u001b[0m\u001b[0;34m\u001b[0m\u001b[0;34m\u001b[0m\u001b[0m\n\u001b[0m\u001b[1;32m      7\u001b[0m \u001b[0;34m\u001b[0m\u001b[0m\n\u001b[1;32m      8\u001b[0m \u001b[0mbase\u001b[0m \u001b[0;34m=\u001b[0m \u001b[0;34m'/tmp/models/'\u001b[0m\u001b[0;34m\u001b[0m\u001b[0;34m\u001b[0m\u001b[0m\n",
      "\u001b[0;32m~/iot/lib/python3.6/site-packages/tensorflow/python/client/session.py\u001b[0m in \u001b[0;36mrun\u001b[0;34m(self, fetches, feed_dict, options, run_metadata)\u001b[0m\n\u001b[1;32m    875\u001b[0m     \u001b[0;32mtry\u001b[0m\u001b[0;34m:\u001b[0m\u001b[0;34m\u001b[0m\u001b[0;34m\u001b[0m\u001b[0m\n\u001b[1;32m    876\u001b[0m       result = self._run(None, fetches, feed_dict, options_ptr,\n\u001b[0;32m--> 877\u001b[0;31m                          run_metadata_ptr)\n\u001b[0m\u001b[1;32m    878\u001b[0m       \u001b[0;32mif\u001b[0m \u001b[0mrun_metadata\u001b[0m\u001b[0;34m:\u001b[0m\u001b[0;34m\u001b[0m\u001b[0;34m\u001b[0m\u001b[0m\n\u001b[1;32m    879\u001b[0m         \u001b[0mproto_data\u001b[0m \u001b[0;34m=\u001b[0m \u001b[0mtf_session\u001b[0m\u001b[0;34m.\u001b[0m\u001b[0mTF_GetBuffer\u001b[0m\u001b[0;34m(\u001b[0m\u001b[0mrun_metadata_ptr\u001b[0m\u001b[0;34m)\u001b[0m\u001b[0;34m\u001b[0m\u001b[0;34m\u001b[0m\u001b[0m\n",
      "\u001b[0;32m~/iot/lib/python3.6/site-packages/tensorflow/python/client/session.py\u001b[0m in \u001b[0;36m_run\u001b[0;34m(self, handle, fetches, feed_dict, options, run_metadata)\u001b[0m\n\u001b[1;32m   1098\u001b[0m     \u001b[0;32mif\u001b[0m \u001b[0mfinal_fetches\u001b[0m \u001b[0;32mor\u001b[0m \u001b[0mfinal_targets\u001b[0m \u001b[0;32mor\u001b[0m \u001b[0;34m(\u001b[0m\u001b[0mhandle\u001b[0m \u001b[0;32mand\u001b[0m \u001b[0mfeed_dict_tensor\u001b[0m\u001b[0;34m)\u001b[0m\u001b[0;34m:\u001b[0m\u001b[0;34m\u001b[0m\u001b[0;34m\u001b[0m\u001b[0m\n\u001b[1;32m   1099\u001b[0m       results = self._do_run(handle, final_targets, final_fetches,\n\u001b[0;32m-> 1100\u001b[0;31m                              feed_dict_tensor, options, run_metadata)\n\u001b[0m\u001b[1;32m   1101\u001b[0m     \u001b[0;32melse\u001b[0m\u001b[0;34m:\u001b[0m\u001b[0;34m\u001b[0m\u001b[0;34m\u001b[0m\u001b[0m\n\u001b[1;32m   1102\u001b[0m       \u001b[0mresults\u001b[0m \u001b[0;34m=\u001b[0m \u001b[0;34m[\u001b[0m\u001b[0;34m]\u001b[0m\u001b[0;34m\u001b[0m\u001b[0;34m\u001b[0m\u001b[0m\n",
      "\u001b[0;32m~/iot/lib/python3.6/site-packages/tensorflow/python/client/session.py\u001b[0m in \u001b[0;36m_do_run\u001b[0;34m(self, handle, target_list, fetch_list, feed_dict, options, run_metadata)\u001b[0m\n\u001b[1;32m   1270\u001b[0m     \u001b[0;32mif\u001b[0m \u001b[0mhandle\u001b[0m \u001b[0;32mis\u001b[0m \u001b[0;32mNone\u001b[0m\u001b[0;34m:\u001b[0m\u001b[0;34m\u001b[0m\u001b[0;34m\u001b[0m\u001b[0m\n\u001b[1;32m   1271\u001b[0m       return self._do_call(_run_fn, feeds, fetches, targets, options,\n\u001b[0;32m-> 1272\u001b[0;31m                            run_metadata)\n\u001b[0m\u001b[1;32m   1273\u001b[0m     \u001b[0;32melse\u001b[0m\u001b[0;34m:\u001b[0m\u001b[0;34m\u001b[0m\u001b[0;34m\u001b[0m\u001b[0m\n\u001b[1;32m   1274\u001b[0m       \u001b[0;32mreturn\u001b[0m \u001b[0mself\u001b[0m\u001b[0;34m.\u001b[0m\u001b[0m_do_call\u001b[0m\u001b[0;34m(\u001b[0m\u001b[0m_prun_fn\u001b[0m\u001b[0;34m,\u001b[0m \u001b[0mhandle\u001b[0m\u001b[0;34m,\u001b[0m \u001b[0mfeeds\u001b[0m\u001b[0;34m,\u001b[0m \u001b[0mfetches\u001b[0m\u001b[0;34m)\u001b[0m\u001b[0;34m\u001b[0m\u001b[0;34m\u001b[0m\u001b[0m\n",
      "\u001b[0;32m~/iot/lib/python3.6/site-packages/tensorflow/python/client/session.py\u001b[0m in \u001b[0;36m_do_call\u001b[0;34m(self, fn, *args)\u001b[0m\n\u001b[1;32m   1289\u001b[0m         \u001b[0;32mexcept\u001b[0m \u001b[0mKeyError\u001b[0m\u001b[0;34m:\u001b[0m\u001b[0;34m\u001b[0m\u001b[0;34m\u001b[0m\u001b[0m\n\u001b[1;32m   1290\u001b[0m           \u001b[0;32mpass\u001b[0m\u001b[0;34m\u001b[0m\u001b[0;34m\u001b[0m\u001b[0m\n\u001b[0;32m-> 1291\u001b[0;31m       \u001b[0;32mraise\u001b[0m \u001b[0mtype\u001b[0m\u001b[0;34m(\u001b[0m\u001b[0me\u001b[0m\u001b[0;34m)\u001b[0m\u001b[0;34m(\u001b[0m\u001b[0mnode_def\u001b[0m\u001b[0;34m,\u001b[0m \u001b[0mop\u001b[0m\u001b[0;34m,\u001b[0m \u001b[0mmessage\u001b[0m\u001b[0;34m)\u001b[0m\u001b[0;34m\u001b[0m\u001b[0;34m\u001b[0m\u001b[0m\n\u001b[0m\u001b[1;32m   1292\u001b[0m \u001b[0;34m\u001b[0m\u001b[0m\n\u001b[1;32m   1293\u001b[0m   \u001b[0;32mdef\u001b[0m \u001b[0m_extend_graph\u001b[0m\u001b[0;34m(\u001b[0m\u001b[0mself\u001b[0m\u001b[0;34m)\u001b[0m\u001b[0;34m:\u001b[0m\u001b[0;34m\u001b[0m\u001b[0;34m\u001b[0m\u001b[0m\n",
      "\u001b[0;31mFailedPreconditionError\u001b[0m: Attempting to use uninitialized value rnn/fast_grnn_cell/EMI-FastGRNN-Cell/FastGRNNcell/B_g_1\n\t [[Node: _retval_rnn/fast_grnn_cell/EMI-FastGRNN-Cell/FastGRNNcell/B_g_1_0_2 = _Retval[T=DT_FLOAT, index=2, _device=\"/job:localhost/replica:0/task:0/device:CPU:0\"](rnn/fast_grnn_cell/EMI-FastGRNN-Cell/FastGRNNcell/B_g_1)]]"
     ]
    }
   ],
   "source": [
    "graph = tf.get_default_graph()\n",
    "W1 = graph.get_tensor_by_name('W1:0')\n",
    "B1 = graph.get_tensor_by_name('B1:0')\n",
    "allVars = emiLSTM.varList + [W1, B1]\n",
    "sess = emiDriver.getCurrentSession()\n",
    "allVars = sess.run(allVars)\n",
    "\n",
    "base = '/tmp/models/'\n",
    "np.save(base + 'kernel.npy', allVars[0])\n",
    "np.save(base + 'bias.npy', allVars[1])\n",
    "np.save(base + 'W1.npy', allVars[2])\n",
    "np.save(base + 'B1.npy', allVars[3])"
   ]
  },
  {
   "cell_type": "markdown",
   "metadata": {
    "ExecuteTime": {
     "end_time": "2018-08-19T11:16:55.606967Z",
     "start_time": "2018-08-19T11:16:55.535964Z"
    }
   },
   "source": [
    "Reset the current session and graph"
   ]
  },
  {
   "cell_type": "code",
   "execution_count": null,
   "metadata": {
    "ExecuteTime": {
     "end_time": "2018-08-19T11:48:44.389724Z",
     "start_time": "2018-08-19T11:48:44.381802Z"
    }
   },
   "outputs": [],
   "source": [
    "sess = emiDriver.getCurrentSession()\n",
    "sess.close()\n",
    "tf.reset_default_graph()"
   ]
  },
  {
   "cell_type": "markdown",
   "metadata": {},
   "source": [
    "Load the numpy matrices that will be used to initialize the graph."
   ]
  },
  {
   "cell_type": "code",
   "execution_count": 28,
   "metadata": {
    "ExecuteTime": {
     "end_time": "2018-08-19T11:48:44.442241Z",
     "start_time": "2018-08-19T11:48:44.391384Z"
    }
   },
   "outputs": [],
   "source": [
    "base = '/home/iot/Documents/EdgeML-master/tf/examples/EMI-RNN/GRNN model'\n",
    "kernel = np.load(base + 'kernel.npy')\n",
    "bias = np.load(base + 'bias.npy')\n",
    "W = np.load(base + 'W1.npy')\n",
    "B = np.load(base + 'B1.npy')"
   ]
  },
  {
   "cell_type": "markdown",
   "metadata": {
    "ExecuteTime": {
     "end_time": "2018-08-19T11:38:36.118298Z",
     "start_time": "2018-08-19T11:38:36.113810Z"
    }
   },
   "source": [
    "Proceed with graph construction as normally done, except that we add the requisite assignment operations."
   ]
  },
  {
   "cell_type": "code",
   "execution_count": 29,
   "metadata": {
    "ExecuteTime": {
     "end_time": "2018-08-19T11:48:51.378377Z",
     "start_time": "2018-08-19T11:48:44.444182Z"
    }
   },
   "outputs": [
    {
     "ename": "NameError",
     "evalue": "name 'EMI_BasicLSTM' is not defined",
     "output_type": "error",
     "traceback": [
      "\u001b[0;31m---------------------------------------------------------------------------\u001b[0m",
      "\u001b[0;31mNameError\u001b[0m                                 Traceback (most recent call last)",
      "\u001b[0;32m<ipython-input-29-2afaa777a052>\u001b[0m in \u001b[0;36m<module>\u001b[0;34m\u001b[0m\n\u001b[1;32m      1\u001b[0m inputPipeline = EMI_DataPipeline(NUM_SUBINSTANCE, NUM_TIMESTEPS, NUM_FEATS,\n\u001b[1;32m      2\u001b[0m                                  NUM_OUTPUT)\n\u001b[0;32m----> 3\u001b[0;31m emiLSTM = EMI_BasicLSTM(NUM_SUBINSTANCE, NUM_HIDDEN, NUM_TIMESTEPS, NUM_FEATS,\n\u001b[0m\u001b[1;32m      4\u001b[0m                         forgetBias=FORGET_BIAS, useDropout=USE_DROPOUT)\n\u001b[1;32m      5\u001b[0m \u001b[0memiTrainer\u001b[0m \u001b[0;34m=\u001b[0m \u001b[0mEMI_Trainer\u001b[0m\u001b[0;34m(\u001b[0m\u001b[0mNUM_TIMESTEPS\u001b[0m\u001b[0;34m,\u001b[0m \u001b[0mNUM_OUTPUT\u001b[0m\u001b[0;34m,\u001b[0m \u001b[0mlossType\u001b[0m\u001b[0;34m=\u001b[0m\u001b[0;34m'xentropy'\u001b[0m\u001b[0;34m)\u001b[0m\u001b[0;34m\u001b[0m\u001b[0;34m\u001b[0m\u001b[0m\n",
      "\u001b[0;31mNameError\u001b[0m: name 'EMI_BasicLSTM' is not defined"
     ]
    }
   ],
   "source": [
    "inputPipeline = EMI_DataPipeline(NUM_SUBINSTANCE, NUM_TIMESTEPS, NUM_FEATS,\n",
    "                                 NUM_OUTPUT)\n",
    "emiLSTM = EMI_Fast(NUM_SUBINSTANCE, NUM_HIDDEN, NUM_TIMESTEPS, NUM_FEATS,\n",
    "                        forgetBias=FORGET_BIAS, useDropout=USE_DROPOUT)\n",
    "emiTrainer = EMI_Trainer(NUM_TIMESTEPS, NUM_OUTPUT, lossType='xentropy')\n",
    "\n",
    "tf.reset_default_graph()\n",
    "graph = tf.Graph()\n",
    "\n",
    "with graph.as_default():\n",
    "    x_batch, y_batch = inputPipeline()\n",
    "    y_cap = emiLSTM(x_batch)\n",
    "    emiTrainer(y_cap, y_batch)\n",
    "    # Add the assignment operations\n",
    "    emiLSTM.addBaseAssignOps(graph, [kernel, bias])\n",
    "    emiLSTM.addExtendedAssignOps(graph, W, B)\n",
    "    # Setup the driver. You can run the initializations manually as well\n",
    "    emiDriver = EMI_Driver(inputPipeline, emiLSTM, emiTrainer)\n",
    "\n",
    "emiDriver.initializeSession(graph)\n",
    "# Run the assignment operations\n",
    "sess = emiDriver.getCurrentSession()\n",
    "sess.run(emiLSTM.assignOps)\n",
    "\n",
    "k = 2\n",
    "predictions, predictionStep = emiDriver.getInstancePredictions(x_test, y_test,\n",
    "                                                               earlyPolicy_minProb,\n",
    "                                                               minProb=0.99,\n",
    "                                                               keep_prob=1.0)\n",
    "bagPredictions = emiDriver.getBagPredictions(predictions, minSubsequenceLen=k,\n",
    "                                             numClass=NUM_OUTPUT)\n",
    "print('PART IV: Accuracy at k = %d: %f' % (k,  np.mean((bagPredictions ==\n",
    "                                                        BAG_TEST).astype(int))))"
   ]
  },
  {
   "cell_type": "code",
   "execution_count": null,
   "metadata": {},
   "outputs": [],
   "source": []
  }
 ],
 "metadata": {
  "kernelspec": {
   "display_name": "Python 3",
   "language": "python",
   "name": "python3"
  },
  "language_info": {
   "codemirror_mode": {
    "name": "ipython",
    "version": 3
   },
   "file_extension": ".py",
   "mimetype": "text/x-python",
   "name": "python",
   "nbconvert_exporter": "python",
   "pygments_lexer": "ipython3",
   "version": "3.6.5"
  },
  "latex_envs": {
   "LaTeX_envs_menu_present": true,
   "autoclose": false,
   "autocomplete": true,
   "bibliofile": "biblio.bib",
   "cite_by": "apalike",
   "current_citInitial": 1,
   "eqLabelWithNumbers": true,
   "eqNumInitial": 1,
   "hotkeys": {
    "equation": "Ctrl-E",
    "itemize": "Ctrl-I"
   },
   "labels_anchors": false,
   "latex_user_defs": false,
   "report_style_numbering": false,
   "user_envs_cfg": false
  }
 },
 "nbformat": 4,
 "nbformat_minor": 2
}
